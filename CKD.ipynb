{
 "cells": [
  {
   "cell_type": "code",
   "execution_count": 1,
   "id": "1d77c8dc",
   "metadata": {},
   "outputs": [],
   "source": [
    "import pandas as pd\n",
    "import numpy as np\n",
    "import matplotlib.pyplot as plt\n",
    "import seaborn as sns"
   ]
  },
  {
   "cell_type": "markdown",
   "id": "bf3b5ddc",
   "metadata": {},
   "source": [
    "Data Loading"
   ]
  },
  {
   "cell_type": "code",
   "execution_count": 2,
   "id": "61dff596",
   "metadata": {
    "scrolled": true
   },
   "outputs": [
    {
     "data": {
      "text/html": [
       "<div>\n",
       "<style scoped>\n",
       "    .dataframe tbody tr th:only-of-type {\n",
       "        vertical-align: middle;\n",
       "    }\n",
       "\n",
       "    .dataframe tbody tr th {\n",
       "        vertical-align: top;\n",
       "    }\n",
       "\n",
       "    .dataframe thead th {\n",
       "        text-align: right;\n",
       "    }\n",
       "</style>\n",
       "<table border=\"1\" class=\"dataframe\">\n",
       "  <thead>\n",
       "    <tr style=\"text-align: right;\">\n",
       "      <th></th>\n",
       "      <th>id</th>\n",
       "      <th>age</th>\n",
       "      <th>bp</th>\n",
       "      <th>sg</th>\n",
       "      <th>al</th>\n",
       "      <th>su</th>\n",
       "      <th>rbc</th>\n",
       "      <th>pc</th>\n",
       "      <th>pcc</th>\n",
       "      <th>ba</th>\n",
       "      <th>...</th>\n",
       "      <th>pcv</th>\n",
       "      <th>wc</th>\n",
       "      <th>rc</th>\n",
       "      <th>htn</th>\n",
       "      <th>dm</th>\n",
       "      <th>cad</th>\n",
       "      <th>appet</th>\n",
       "      <th>pe</th>\n",
       "      <th>ane</th>\n",
       "      <th>classification</th>\n",
       "    </tr>\n",
       "  </thead>\n",
       "  <tbody>\n",
       "    <tr>\n",
       "      <th>0</th>\n",
       "      <td>0</td>\n",
       "      <td>48.0</td>\n",
       "      <td>80.0</td>\n",
       "      <td>1.020</td>\n",
       "      <td>1.0</td>\n",
       "      <td>0.0</td>\n",
       "      <td>NaN</td>\n",
       "      <td>normal</td>\n",
       "      <td>notpresent</td>\n",
       "      <td>notpresent</td>\n",
       "      <td>...</td>\n",
       "      <td>44</td>\n",
       "      <td>7800</td>\n",
       "      <td>5.2</td>\n",
       "      <td>yes</td>\n",
       "      <td>yes</td>\n",
       "      <td>no</td>\n",
       "      <td>good</td>\n",
       "      <td>no</td>\n",
       "      <td>no</td>\n",
       "      <td>ckd</td>\n",
       "    </tr>\n",
       "    <tr>\n",
       "      <th>1</th>\n",
       "      <td>1</td>\n",
       "      <td>7.0</td>\n",
       "      <td>50.0</td>\n",
       "      <td>1.020</td>\n",
       "      <td>4.0</td>\n",
       "      <td>0.0</td>\n",
       "      <td>NaN</td>\n",
       "      <td>normal</td>\n",
       "      <td>notpresent</td>\n",
       "      <td>notpresent</td>\n",
       "      <td>...</td>\n",
       "      <td>38</td>\n",
       "      <td>6000</td>\n",
       "      <td>NaN</td>\n",
       "      <td>no</td>\n",
       "      <td>no</td>\n",
       "      <td>no</td>\n",
       "      <td>good</td>\n",
       "      <td>no</td>\n",
       "      <td>no</td>\n",
       "      <td>ckd</td>\n",
       "    </tr>\n",
       "    <tr>\n",
       "      <th>2</th>\n",
       "      <td>2</td>\n",
       "      <td>62.0</td>\n",
       "      <td>80.0</td>\n",
       "      <td>1.010</td>\n",
       "      <td>2.0</td>\n",
       "      <td>3.0</td>\n",
       "      <td>normal</td>\n",
       "      <td>normal</td>\n",
       "      <td>notpresent</td>\n",
       "      <td>notpresent</td>\n",
       "      <td>...</td>\n",
       "      <td>31</td>\n",
       "      <td>7500</td>\n",
       "      <td>NaN</td>\n",
       "      <td>no</td>\n",
       "      <td>yes</td>\n",
       "      <td>no</td>\n",
       "      <td>poor</td>\n",
       "      <td>no</td>\n",
       "      <td>yes</td>\n",
       "      <td>ckd</td>\n",
       "    </tr>\n",
       "    <tr>\n",
       "      <th>3</th>\n",
       "      <td>3</td>\n",
       "      <td>48.0</td>\n",
       "      <td>70.0</td>\n",
       "      <td>1.005</td>\n",
       "      <td>4.0</td>\n",
       "      <td>0.0</td>\n",
       "      <td>normal</td>\n",
       "      <td>abnormal</td>\n",
       "      <td>present</td>\n",
       "      <td>notpresent</td>\n",
       "      <td>...</td>\n",
       "      <td>32</td>\n",
       "      <td>6700</td>\n",
       "      <td>3.9</td>\n",
       "      <td>yes</td>\n",
       "      <td>no</td>\n",
       "      <td>no</td>\n",
       "      <td>poor</td>\n",
       "      <td>yes</td>\n",
       "      <td>yes</td>\n",
       "      <td>ckd</td>\n",
       "    </tr>\n",
       "    <tr>\n",
       "      <th>4</th>\n",
       "      <td>4</td>\n",
       "      <td>51.0</td>\n",
       "      <td>80.0</td>\n",
       "      <td>1.010</td>\n",
       "      <td>2.0</td>\n",
       "      <td>0.0</td>\n",
       "      <td>normal</td>\n",
       "      <td>normal</td>\n",
       "      <td>notpresent</td>\n",
       "      <td>notpresent</td>\n",
       "      <td>...</td>\n",
       "      <td>35</td>\n",
       "      <td>7300</td>\n",
       "      <td>4.6</td>\n",
       "      <td>no</td>\n",
       "      <td>no</td>\n",
       "      <td>no</td>\n",
       "      <td>good</td>\n",
       "      <td>no</td>\n",
       "      <td>no</td>\n",
       "      <td>ckd</td>\n",
       "    </tr>\n",
       "  </tbody>\n",
       "</table>\n",
       "<p>5 rows × 26 columns</p>\n",
       "</div>"
      ],
      "text/plain": [
       "   id   age    bp     sg   al   su     rbc        pc         pcc          ba  \\\n",
       "0   0  48.0  80.0  1.020  1.0  0.0     NaN    normal  notpresent  notpresent   \n",
       "1   1   7.0  50.0  1.020  4.0  0.0     NaN    normal  notpresent  notpresent   \n",
       "2   2  62.0  80.0  1.010  2.0  3.0  normal    normal  notpresent  notpresent   \n",
       "3   3  48.0  70.0  1.005  4.0  0.0  normal  abnormal     present  notpresent   \n",
       "4   4  51.0  80.0  1.010  2.0  0.0  normal    normal  notpresent  notpresent   \n",
       "\n",
       "   ...  pcv    wc   rc  htn   dm  cad appet   pe  ane classification  \n",
       "0  ...   44  7800  5.2  yes  yes   no  good   no   no            ckd  \n",
       "1  ...   38  6000  NaN   no   no   no  good   no   no            ckd  \n",
       "2  ...   31  7500  NaN   no  yes   no  poor   no  yes            ckd  \n",
       "3  ...   32  6700  3.9  yes   no   no  poor  yes  yes            ckd  \n",
       "4  ...   35  7300  4.6   no   no   no  good   no   no            ckd  \n",
       "\n",
       "[5 rows x 26 columns]"
      ]
     },
     "execution_count": 2,
     "metadata": {},
     "output_type": "execute_result"
    }
   ],
   "source": [
    "df=pd.read_csv(\"kidney_disease.csv\")\n",
    "df.head()"
   ]
  },
  {
   "cell_type": "markdown",
   "id": "b1822ada",
   "metadata": {},
   "source": [
    "Data cleaning"
   ]
  },
  {
   "cell_type": "code",
   "execution_count": 3,
   "id": "b82be065",
   "metadata": {},
   "outputs": [
    {
     "data": {
      "text/plain": [
       "id                  0\n",
       "age                 9\n",
       "bp                 12\n",
       "sg                 47\n",
       "al                 46\n",
       "su                 49\n",
       "rbc               152\n",
       "pc                 65\n",
       "pcc                 4\n",
       "ba                  4\n",
       "bgr                44\n",
       "bu                 19\n",
       "sc                 17\n",
       "sod                87\n",
       "pot                88\n",
       "hemo               52\n",
       "pcv                70\n",
       "wc                105\n",
       "rc                130\n",
       "htn                 2\n",
       "dm                  2\n",
       "cad                 2\n",
       "appet               1\n",
       "pe                  1\n",
       "ane                 1\n",
       "classification      0\n",
       "dtype: int64"
      ]
     },
     "execution_count": 3,
     "metadata": {},
     "output_type": "execute_result"
    }
   ],
   "source": [
    "df.isna().sum()"
   ]
  },
  {
   "cell_type": "code",
   "execution_count": 4,
   "id": "827da562",
   "metadata": {},
   "outputs": [
    {
     "data": {
      "text/html": [
       "<div>\n",
       "<style scoped>\n",
       "    .dataframe tbody tr th:only-of-type {\n",
       "        vertical-align: middle;\n",
       "    }\n",
       "\n",
       "    .dataframe tbody tr th {\n",
       "        vertical-align: top;\n",
       "    }\n",
       "\n",
       "    .dataframe thead th {\n",
       "        text-align: right;\n",
       "    }\n",
       "</style>\n",
       "<table border=\"1\" class=\"dataframe\">\n",
       "  <thead>\n",
       "    <tr style=\"text-align: right;\">\n",
       "      <th></th>\n",
       "      <th>id</th>\n",
       "      <th>age</th>\n",
       "      <th>bp</th>\n",
       "      <th>sg</th>\n",
       "      <th>al</th>\n",
       "      <th>su</th>\n",
       "      <th>bgr</th>\n",
       "      <th>bu</th>\n",
       "      <th>sc</th>\n",
       "      <th>sod</th>\n",
       "      <th>pot</th>\n",
       "      <th>hemo</th>\n",
       "    </tr>\n",
       "  </thead>\n",
       "  <tbody>\n",
       "    <tr>\n",
       "      <th>count</th>\n",
       "      <td>400.000000</td>\n",
       "      <td>391.000000</td>\n",
       "      <td>388.000000</td>\n",
       "      <td>353.000000</td>\n",
       "      <td>354.000000</td>\n",
       "      <td>351.000000</td>\n",
       "      <td>356.000000</td>\n",
       "      <td>381.000000</td>\n",
       "      <td>383.000000</td>\n",
       "      <td>313.000000</td>\n",
       "      <td>312.000000</td>\n",
       "      <td>348.000000</td>\n",
       "    </tr>\n",
       "    <tr>\n",
       "      <th>mean</th>\n",
       "      <td>199.500000</td>\n",
       "      <td>51.483376</td>\n",
       "      <td>76.469072</td>\n",
       "      <td>1.017408</td>\n",
       "      <td>1.016949</td>\n",
       "      <td>0.450142</td>\n",
       "      <td>148.036517</td>\n",
       "      <td>57.425722</td>\n",
       "      <td>3.072454</td>\n",
       "      <td>137.528754</td>\n",
       "      <td>4.627244</td>\n",
       "      <td>12.526437</td>\n",
       "    </tr>\n",
       "    <tr>\n",
       "      <th>std</th>\n",
       "      <td>115.614301</td>\n",
       "      <td>17.169714</td>\n",
       "      <td>13.683637</td>\n",
       "      <td>0.005717</td>\n",
       "      <td>1.352679</td>\n",
       "      <td>1.099191</td>\n",
       "      <td>79.281714</td>\n",
       "      <td>50.503006</td>\n",
       "      <td>5.741126</td>\n",
       "      <td>10.408752</td>\n",
       "      <td>3.193904</td>\n",
       "      <td>2.912587</td>\n",
       "    </tr>\n",
       "    <tr>\n",
       "      <th>min</th>\n",
       "      <td>0.000000</td>\n",
       "      <td>2.000000</td>\n",
       "      <td>50.000000</td>\n",
       "      <td>1.005000</td>\n",
       "      <td>0.000000</td>\n",
       "      <td>0.000000</td>\n",
       "      <td>22.000000</td>\n",
       "      <td>1.500000</td>\n",
       "      <td>0.400000</td>\n",
       "      <td>4.500000</td>\n",
       "      <td>2.500000</td>\n",
       "      <td>3.100000</td>\n",
       "    </tr>\n",
       "    <tr>\n",
       "      <th>25%</th>\n",
       "      <td>99.750000</td>\n",
       "      <td>42.000000</td>\n",
       "      <td>70.000000</td>\n",
       "      <td>1.010000</td>\n",
       "      <td>0.000000</td>\n",
       "      <td>0.000000</td>\n",
       "      <td>99.000000</td>\n",
       "      <td>27.000000</td>\n",
       "      <td>0.900000</td>\n",
       "      <td>135.000000</td>\n",
       "      <td>3.800000</td>\n",
       "      <td>10.300000</td>\n",
       "    </tr>\n",
       "    <tr>\n",
       "      <th>50%</th>\n",
       "      <td>199.500000</td>\n",
       "      <td>55.000000</td>\n",
       "      <td>80.000000</td>\n",
       "      <td>1.020000</td>\n",
       "      <td>0.000000</td>\n",
       "      <td>0.000000</td>\n",
       "      <td>121.000000</td>\n",
       "      <td>42.000000</td>\n",
       "      <td>1.300000</td>\n",
       "      <td>138.000000</td>\n",
       "      <td>4.400000</td>\n",
       "      <td>12.650000</td>\n",
       "    </tr>\n",
       "    <tr>\n",
       "      <th>75%</th>\n",
       "      <td>299.250000</td>\n",
       "      <td>64.500000</td>\n",
       "      <td>80.000000</td>\n",
       "      <td>1.020000</td>\n",
       "      <td>2.000000</td>\n",
       "      <td>0.000000</td>\n",
       "      <td>163.000000</td>\n",
       "      <td>66.000000</td>\n",
       "      <td>2.800000</td>\n",
       "      <td>142.000000</td>\n",
       "      <td>4.900000</td>\n",
       "      <td>15.000000</td>\n",
       "    </tr>\n",
       "    <tr>\n",
       "      <th>max</th>\n",
       "      <td>399.000000</td>\n",
       "      <td>90.000000</td>\n",
       "      <td>180.000000</td>\n",
       "      <td>1.025000</td>\n",
       "      <td>5.000000</td>\n",
       "      <td>5.000000</td>\n",
       "      <td>490.000000</td>\n",
       "      <td>391.000000</td>\n",
       "      <td>76.000000</td>\n",
       "      <td>163.000000</td>\n",
       "      <td>47.000000</td>\n",
       "      <td>17.800000</td>\n",
       "    </tr>\n",
       "  </tbody>\n",
       "</table>\n",
       "</div>"
      ],
      "text/plain": [
       "               id         age          bp          sg          al          su  \\\n",
       "count  400.000000  391.000000  388.000000  353.000000  354.000000  351.000000   \n",
       "mean   199.500000   51.483376   76.469072    1.017408    1.016949    0.450142   \n",
       "std    115.614301   17.169714   13.683637    0.005717    1.352679    1.099191   \n",
       "min      0.000000    2.000000   50.000000    1.005000    0.000000    0.000000   \n",
       "25%     99.750000   42.000000   70.000000    1.010000    0.000000    0.000000   \n",
       "50%    199.500000   55.000000   80.000000    1.020000    0.000000    0.000000   \n",
       "75%    299.250000   64.500000   80.000000    1.020000    2.000000    0.000000   \n",
       "max    399.000000   90.000000  180.000000    1.025000    5.000000    5.000000   \n",
       "\n",
       "              bgr          bu          sc         sod         pot        hemo  \n",
       "count  356.000000  381.000000  383.000000  313.000000  312.000000  348.000000  \n",
       "mean   148.036517   57.425722    3.072454  137.528754    4.627244   12.526437  \n",
       "std     79.281714   50.503006    5.741126   10.408752    3.193904    2.912587  \n",
       "min     22.000000    1.500000    0.400000    4.500000    2.500000    3.100000  \n",
       "25%     99.000000   27.000000    0.900000  135.000000    3.800000   10.300000  \n",
       "50%    121.000000   42.000000    1.300000  138.000000    4.400000   12.650000  \n",
       "75%    163.000000   66.000000    2.800000  142.000000    4.900000   15.000000  \n",
       "max    490.000000  391.000000   76.000000  163.000000   47.000000   17.800000  "
      ]
     },
     "execution_count": 4,
     "metadata": {},
     "output_type": "execute_result"
    }
   ],
   "source": [
    "df.describe()\n"
   ]
  },
  {
   "cell_type": "code",
   "execution_count": 5,
   "id": "762fac8e",
   "metadata": {},
   "outputs": [],
   "source": [
    "\n",
    "features = df.drop(columns=[\"classification\"], axis=1)\n",
    "df.drop('id', axis = 1, inplace = True)\n"
   ]
  },
  {
   "cell_type": "code",
   "execution_count": 6,
   "id": "665d20cf",
   "metadata": {},
   "outputs": [],
   "source": [
    "#rename column names to make it more user-friendly\n",
    "\n",
    "df.columns = ['age', 'blood_pressure', 'specific_gravity', 'albumin', 'sugar', 'red_blood_cells', 'pus_cell',\n",
    "              'pus_cell_clumps', 'bacteria', 'blood_glucose_random', 'blood_urea', 'serum_creatinine', 'sodium',\n",
    "              'potassium', 'haemoglobin', 'packed_cell_volume', 'white_blood_cell_count', 'red_blood_cell_count',\n",
    "              'hypertension', 'diabetes_mellitus', 'coronary_artery_disease', 'appetite', 'peda_edema',\n",
    "              'aanemia', 'class']\n",
    "target = df[['class']]\n"
   ]
  },
  {
   "cell_type": "code",
   "execution_count": 7,
   "id": "881770d9",
   "metadata": {},
   "outputs": [
    {
     "data": {
      "text/html": [
       "<div>\n",
       "<style scoped>\n",
       "    .dataframe tbody tr th:only-of-type {\n",
       "        vertical-align: middle;\n",
       "    }\n",
       "\n",
       "    .dataframe tbody tr th {\n",
       "        vertical-align: top;\n",
       "    }\n",
       "\n",
       "    .dataframe thead th {\n",
       "        text-align: right;\n",
       "    }\n",
       "</style>\n",
       "<table border=\"1\" class=\"dataframe\">\n",
       "  <thead>\n",
       "    <tr style=\"text-align: right;\">\n",
       "      <th></th>\n",
       "      <th>red_blood_cells</th>\n",
       "      <th>pus_cell</th>\n",
       "      <th>pus_cell_clumps</th>\n",
       "      <th>bacteria</th>\n",
       "      <th>packed_cell_volume</th>\n",
       "      <th>white_blood_cell_count</th>\n",
       "      <th>red_blood_cell_count</th>\n",
       "      <th>hypertension</th>\n",
       "      <th>diabetes_mellitus</th>\n",
       "      <th>coronary_artery_disease</th>\n",
       "      <th>appetite</th>\n",
       "      <th>peda_edema</th>\n",
       "      <th>aanemia</th>\n",
       "      <th>class</th>\n",
       "    </tr>\n",
       "  </thead>\n",
       "  <tbody>\n",
       "    <tr>\n",
       "      <th>0</th>\n",
       "      <td>NaN</td>\n",
       "      <td>normal</td>\n",
       "      <td>notpresent</td>\n",
       "      <td>notpresent</td>\n",
       "      <td>44</td>\n",
       "      <td>7800</td>\n",
       "      <td>5.2</td>\n",
       "      <td>yes</td>\n",
       "      <td>yes</td>\n",
       "      <td>no</td>\n",
       "      <td>good</td>\n",
       "      <td>no</td>\n",
       "      <td>no</td>\n",
       "      <td>ckd</td>\n",
       "    </tr>\n",
       "    <tr>\n",
       "      <th>1</th>\n",
       "      <td>NaN</td>\n",
       "      <td>normal</td>\n",
       "      <td>notpresent</td>\n",
       "      <td>notpresent</td>\n",
       "      <td>38</td>\n",
       "      <td>6000</td>\n",
       "      <td>NaN</td>\n",
       "      <td>no</td>\n",
       "      <td>no</td>\n",
       "      <td>no</td>\n",
       "      <td>good</td>\n",
       "      <td>no</td>\n",
       "      <td>no</td>\n",
       "      <td>ckd</td>\n",
       "    </tr>\n",
       "    <tr>\n",
       "      <th>2</th>\n",
       "      <td>normal</td>\n",
       "      <td>normal</td>\n",
       "      <td>notpresent</td>\n",
       "      <td>notpresent</td>\n",
       "      <td>31</td>\n",
       "      <td>7500</td>\n",
       "      <td>NaN</td>\n",
       "      <td>no</td>\n",
       "      <td>yes</td>\n",
       "      <td>no</td>\n",
       "      <td>poor</td>\n",
       "      <td>no</td>\n",
       "      <td>yes</td>\n",
       "      <td>ckd</td>\n",
       "    </tr>\n",
       "    <tr>\n",
       "      <th>3</th>\n",
       "      <td>normal</td>\n",
       "      <td>abnormal</td>\n",
       "      <td>present</td>\n",
       "      <td>notpresent</td>\n",
       "      <td>32</td>\n",
       "      <td>6700</td>\n",
       "      <td>3.9</td>\n",
       "      <td>yes</td>\n",
       "      <td>no</td>\n",
       "      <td>no</td>\n",
       "      <td>poor</td>\n",
       "      <td>yes</td>\n",
       "      <td>yes</td>\n",
       "      <td>ckd</td>\n",
       "    </tr>\n",
       "    <tr>\n",
       "      <th>4</th>\n",
       "      <td>normal</td>\n",
       "      <td>normal</td>\n",
       "      <td>notpresent</td>\n",
       "      <td>notpresent</td>\n",
       "      <td>35</td>\n",
       "      <td>7300</td>\n",
       "      <td>4.6</td>\n",
       "      <td>no</td>\n",
       "      <td>no</td>\n",
       "      <td>no</td>\n",
       "      <td>good</td>\n",
       "      <td>no</td>\n",
       "      <td>no</td>\n",
       "      <td>ckd</td>\n",
       "    </tr>\n",
       "  </tbody>\n",
       "</table>\n",
       "</div>"
      ],
      "text/plain": [
       "  red_blood_cells  pus_cell pus_cell_clumps    bacteria packed_cell_volume  \\\n",
       "0             NaN    normal      notpresent  notpresent                 44   \n",
       "1             NaN    normal      notpresent  notpresent                 38   \n",
       "2          normal    normal      notpresent  notpresent                 31   \n",
       "3          normal  abnormal         present  notpresent                 32   \n",
       "4          normal    normal      notpresent  notpresent                 35   \n",
       "\n",
       "  white_blood_cell_count red_blood_cell_count hypertension diabetes_mellitus  \\\n",
       "0                   7800                  5.2          yes               yes   \n",
       "1                   6000                  NaN           no                no   \n",
       "2                   7500                  NaN           no               yes   \n",
       "3                   6700                  3.9          yes                no   \n",
       "4                   7300                  4.6           no                no   \n",
       "\n",
       "  coronary_artery_disease appetite peda_edema aanemia class  \n",
       "0                      no     good         no      no   ckd  \n",
       "1                      no     good         no      no   ckd  \n",
       "2                      no     poor         no     yes   ckd  \n",
       "3                      no     poor        yes     yes   ckd  \n",
       "4                      no     good         no      no   ckd  "
      ]
     },
     "execution_count": 7,
     "metadata": {},
     "output_type": "execute_result"
    }
   ],
   "source": [
    "categorical = df.select_dtypes(include=[\"object\", \"bool\"])\n",
    "categorical.head()"
   ]
  },
  {
   "cell_type": "code",
   "execution_count": 8,
   "id": "3cd98397",
   "metadata": {},
   "outputs": [],
   "source": [
    "# converting necessary columns to numerical type \n",
    "df['packed_cell_volume'] = pd.to_numeric(df['packed_cell_volume'], errors='coerce')\n",
    "df['white_blood_cell_count'] = pd.to_numeric(df['white_blood_cell_count'], errors='coerce')\n",
    "df['red_blood_cell_count'] = pd.to_numeric(df['red_blood_cell_count'], errors='coerce')"
   ]
  },
  {
   "cell_type": "code",
   "execution_count": 9,
   "id": "c47df493",
   "metadata": {},
   "outputs": [
    {
     "data": {
      "text/html": [
       "<div>\n",
       "<style scoped>\n",
       "    .dataframe tbody tr th:only-of-type {\n",
       "        vertical-align: middle;\n",
       "    }\n",
       "\n",
       "    .dataframe tbody tr th {\n",
       "        vertical-align: top;\n",
       "    }\n",
       "\n",
       "    .dataframe thead th {\n",
       "        text-align: right;\n",
       "    }\n",
       "</style>\n",
       "<table border=\"1\" class=\"dataframe\">\n",
       "  <thead>\n",
       "    <tr style=\"text-align: right;\">\n",
       "      <th></th>\n",
       "      <th>red_blood_cells</th>\n",
       "      <th>pus_cell</th>\n",
       "      <th>pus_cell_clumps</th>\n",
       "      <th>bacteria</th>\n",
       "      <th>hypertension</th>\n",
       "      <th>diabetes_mellitus</th>\n",
       "      <th>coronary_artery_disease</th>\n",
       "      <th>appetite</th>\n",
       "      <th>peda_edema</th>\n",
       "      <th>aanemia</th>\n",
       "      <th>class</th>\n",
       "    </tr>\n",
       "  </thead>\n",
       "  <tbody>\n",
       "    <tr>\n",
       "      <th>0</th>\n",
       "      <td>NaN</td>\n",
       "      <td>normal</td>\n",
       "      <td>notpresent</td>\n",
       "      <td>notpresent</td>\n",
       "      <td>yes</td>\n",
       "      <td>yes</td>\n",
       "      <td>no</td>\n",
       "      <td>good</td>\n",
       "      <td>no</td>\n",
       "      <td>no</td>\n",
       "      <td>ckd</td>\n",
       "    </tr>\n",
       "    <tr>\n",
       "      <th>1</th>\n",
       "      <td>NaN</td>\n",
       "      <td>normal</td>\n",
       "      <td>notpresent</td>\n",
       "      <td>notpresent</td>\n",
       "      <td>no</td>\n",
       "      <td>no</td>\n",
       "      <td>no</td>\n",
       "      <td>good</td>\n",
       "      <td>no</td>\n",
       "      <td>no</td>\n",
       "      <td>ckd</td>\n",
       "    </tr>\n",
       "    <tr>\n",
       "      <th>2</th>\n",
       "      <td>normal</td>\n",
       "      <td>normal</td>\n",
       "      <td>notpresent</td>\n",
       "      <td>notpresent</td>\n",
       "      <td>no</td>\n",
       "      <td>yes</td>\n",
       "      <td>no</td>\n",
       "      <td>poor</td>\n",
       "      <td>no</td>\n",
       "      <td>yes</td>\n",
       "      <td>ckd</td>\n",
       "    </tr>\n",
       "    <tr>\n",
       "      <th>3</th>\n",
       "      <td>normal</td>\n",
       "      <td>abnormal</td>\n",
       "      <td>present</td>\n",
       "      <td>notpresent</td>\n",
       "      <td>yes</td>\n",
       "      <td>no</td>\n",
       "      <td>no</td>\n",
       "      <td>poor</td>\n",
       "      <td>yes</td>\n",
       "      <td>yes</td>\n",
       "      <td>ckd</td>\n",
       "    </tr>\n",
       "    <tr>\n",
       "      <th>4</th>\n",
       "      <td>normal</td>\n",
       "      <td>normal</td>\n",
       "      <td>notpresent</td>\n",
       "      <td>notpresent</td>\n",
       "      <td>no</td>\n",
       "      <td>no</td>\n",
       "      <td>no</td>\n",
       "      <td>good</td>\n",
       "      <td>no</td>\n",
       "      <td>no</td>\n",
       "      <td>ckd</td>\n",
       "    </tr>\n",
       "  </tbody>\n",
       "</table>\n",
       "</div>"
      ],
      "text/plain": [
       "  red_blood_cells  pus_cell pus_cell_clumps    bacteria hypertension  \\\n",
       "0             NaN    normal      notpresent  notpresent          yes   \n",
       "1             NaN    normal      notpresent  notpresent           no   \n",
       "2          normal    normal      notpresent  notpresent           no   \n",
       "3          normal  abnormal         present  notpresent          yes   \n",
       "4          normal    normal      notpresent  notpresent           no   \n",
       "\n",
       "  diabetes_mellitus coronary_artery_disease appetite peda_edema aanemia class  \n",
       "0               yes                      no     good         no      no   ckd  \n",
       "1                no                      no     good         no      no   ckd  \n",
       "2               yes                      no     poor         no     yes   ckd  \n",
       "3                no                      no     poor        yes     yes   ckd  \n",
       "4                no                      no     good         no      no   ckd  "
      ]
     },
     "execution_count": 9,
     "metadata": {},
     "output_type": "execute_result"
    }
   ],
   "source": [
    "categorical = df.select_dtypes(include=[\"object\", \"bool\"])\n",
    "categorical.head()"
   ]
  },
  {
   "cell_type": "code",
   "execution_count": 10,
   "id": "075f2774",
   "metadata": {},
   "outputs": [
    {
     "name": "stdout",
     "output_type": "stream",
     "text": [
      "Column: age\n",
      "\n",
      "{nan, nan, nan, nan, nan, 5.0, nan, 7.0, 8.0, 4.0, 3.0, 11.0, 12.0, 6.0, 14.0, 15.0, 2.0, 17.0, 19.0, 20.0, 21.0, 22.0, 23.0, 24.0, 25.0, 26.0, 27.0, 28.0, 29.0, 30.0, nan, 32.0, nan, 34.0, 35.0, 33.0, 36.0, 38.0, 39.0, 40.0, 41.0, 42.0, 43.0, 44.0, 45.0, 46.0, 47.0, 48.0, 49.0, 50.0, 51.0, 52.0, 53.0, 54.0, 55.0, 56.0, 57.0, 58.0, 59.0, 60.0, 61.0, 62.0, 63.0, 64.0, 65.0, 66.0, 67.0, 68.0, 69.0, 70.0, 71.0, 72.0, 73.0, 74.0, 75.0, 76.0, 78.0, 79.0, 80.0, 81.0, 82.0, 83.0, 90.0, nan, 37.0}\n",
      "\n",
      "Column: blood_pressure\n",
      "\n",
      "{nan, nan, nan, nan, nan, nan, nan, nan, nan, nan, nan, nan, 140.0, 50.0, 180.0, 60.0, 70.0, 80.0, 90.0, 100.0, 110.0, 120.0}\n",
      "\n",
      "Column: specific_gravity\n",
      "\n",
      "{nan, 1.02, 1.005, 1.015, 1.01, nan, 1.025, nan, nan, nan, nan, nan, nan, nan, nan, nan, nan, nan, nan, nan, nan, nan, nan, nan, nan, nan, nan, nan, nan, nan, nan, nan, nan, nan, nan, nan, nan, nan, nan, nan, nan, nan, nan, nan, nan, nan, nan, nan, nan, nan, nan, nan}\n",
      "\n",
      "Column: albumin\n",
      "\n",
      "{0.0, 1.0, 2.0, 3.0, 4.0, nan, nan, nan, nan, nan, nan, nan, nan, nan, nan, nan, nan, nan, nan, nan, nan, nan, nan, 5.0, nan, nan, nan, nan, nan, nan, nan, nan, nan, nan, nan, nan, nan, nan, nan, nan, nan, nan, nan, nan, nan, nan, nan, nan, nan, nan, nan, nan}\n",
      "\n",
      "Column: sugar\n",
      "\n",
      "{0.0, 1.0, nan, 3.0, 4.0, 2.0, nan, nan, nan, nan, nan, 5.0, nan, nan, nan, nan, nan, nan, nan, nan, nan, nan, nan, nan, nan, nan, nan, nan, nan, nan, nan, nan, nan, nan, nan, nan, nan, nan, nan, nan, nan, nan, nan, nan, nan, nan, nan, nan, nan, nan, nan, nan, nan, nan, nan}\n",
      "\n",
      "Column: red_blood_cells\n",
      "\n",
      "{nan, 'abnormal', 'normal'}\n",
      "\n",
      "Column: pus_cell\n",
      "\n",
      "{nan, 'abnormal', 'normal'}\n",
      "\n",
      "Column: pus_cell_clumps\n",
      "\n",
      "{nan, 'present', 'notpresent'}\n",
      "\n",
      "Column: bacteria\n",
      "\n",
      "{nan, 'present', 'notpresent'}\n",
      "\n",
      "Column: blood_glucose_random\n",
      "\n",
      "{nan, nan, nan, nan, nan, nan, nan, nan, nan, nan, nan, nan, nan, nan, nan, nan, 22.0, nan, nan, nan, nan, nan, nan, nan, nan, nan, nan, 70.0, 74.0, 75.0, 76.0, 78.0, 79.0, 80.0, 81.0, 82.0, 83.0, 84.0, 85.0, 86.0, 87.0, 88.0, 89.0, 90.0, 91.0, 92.0, 93.0, 94.0, 95.0, 96.0, 97.0, 98.0, 99.0, 100.0, 101.0, 102.0, 103.0, 104.0, 105.0, 106.0, 107.0, 108.0, 109.0, 110.0, 111.0, 112.0, 113.0, 114.0, 115.0, 116.0, 117.0, 118.0, 119.0, 120.0, 121.0, 122.0, 123.0, 124.0, 125.0, 127.0, 128.0, 129.0, 130.0, 131.0, 132.0, 133.0, 134.0, 137.0, 138.0, 139.0, 140.0, 141.0, 143.0, 144.0, 146.0, 148.0, 150.0, 153.0, 156.0, 157.0, 158.0, 159.0, nan, nan, 162.0, 163.0, 160.0, 165.0, 169.0, 171.0, 172.0, 173.0, 176.0, 182.0, 184.0, 192.0, 201.0, 203.0, 204.0, 207.0, 208.0, 210.0, 213.0, 214.0, 215.0, 219.0, 220.0, 224.0, 226.0, 230.0, 233.0, 234.0, 238.0, 239.0, 241.0, 242.0, 246.0, 248.0, 250.0, 251.0, 252.0, 253.0, 255.0, 256.0, 261.0, 263.0, 264.0, 268.0, nan, 270.0, nan, nan, 273.0, nan, nan, nan, nan, nan, 280.0, 288.0, 294.0, 295.0, 297.0, 298.0, 303.0, 307.0, 308.0, 309.0, nan, 323.0, nan, nan, nan, nan, nan, nan, 269.0, nan, 341.0, 352.0, 360.0, 380.0, 410.0, 415.0, 423.0, 424.0, 425.0, 447.0, 463.0, 490.0}\n",
      "\n",
      "Column: blood_urea\n",
      "\n",
      "{nan, nan, nan, nan, nan, nan, nan, nan, nan, 1.5, nan, nan, nan, nan, 10.0, 15.0, 16.0, 17.0, 18.0, 19.0, 20.0, 21.0, 22.0, 23.0, 24.0, 25.0, 26.0, 27.0, 28.0, 29.0, 30.0, 31.0, 32.0, 33.0, 34.0, 35.0, 36.0, 37.0, 38.0, 39.0, 40.0, 41.0, 42.0, 44.0, 45.0, 46.0, 47.0, 48.0, 49.0, 50.0, 51.0, 52.0, 53.0, 54.0, 55.0, 56.0, 50.1, 58.0, 57.0, 60.0, 61.0, 64.0, 65.0, 66.0, 67.0, 68.0, 70.0, 71.0, 72.0, 73.0, 74.0, 75.0, 76.0, 77.0, 79.0, 80.0, 82.0, 85.0, 86.0, 87.0, 88.0, 89.0, 90.0, 92.0, 93.0, 94.0, 95.0, 96.0, 98.0, 98.6, 103.0, 106.0, 107.0, 111.0, 113.0, 114.0, 115.0, 118.0, 125.0, 132.0, 133.0, 137.0, 139.0, 142.0, 145.0, 146.0, 148.0, 150.0, 153.0, 155.0, nan, nan, 158.0, nan, nan, nan, 162.0, 163.0, 164.0, 165.0, 166.0, 176.0, 180.0, 186.0, 191.0, 202.0, 208.0, 215.0, 217.0, 219.0, 223.0, 235.0, 241.0, nan, 309.0, 322.0, 391.0}\n",
      "\n",
      "Column: serum_creatinine\n",
      "\n",
      "{0.8, 1.2, 1.4, 3.8, 1.8, 1.1, 1.9, 7.2, 4.0, 2.7, 2.1, 4.6, 4.1, 9.6, 5.2, 7.7, 7.3, 2.5, 2.0, 10.8, 3.0, 3.25, 15.0, 14.2, 24.0, 16.9, 18.0, 18.1, 6.5, nan, 0.5, nan, 1.5, 1.0, nan, 32.0, nan, nan, 8.5, 7.5, 48.1, 11.5, 12.0, 13.0, 13.5, 76.0, 16.4, 2.4, 2.9, 3.9, 3.4, 4.4, 5.9, 6.0, nan, nan, 6.4, nan, nan, nan, nan, nan, nan, 11.9, 13.4, 2.8, 2.3, 3.3, 4.3, 1.3, 5.3, 6.3, 6.8, 0.6, 0.9, 0.4, nan, nan, nan, nan, 9.7, 9.2, 9.3, 0.7, 10.2, 1.7, 11.8, 12.2, 12.8, 13.8, 13.3, 2.2, 15.2, 3.2, 6.7, 5.6, 6.1, 7.1, 1.6, 2.6, 3.6}\n",
      "\n",
      "Column: sodium\n",
      "\n",
      "{nan, nan, nan, nan, nan, nan, nan, 4.5, nan, nan, nan, nan, nan, nan, nan, nan, nan, nan, nan, nan, nan, nan, nan, nan, nan, nan, nan, nan, nan, nan, nan, nan, nan, nan, nan, nan, 104.0, 111.0, 113.0, 114.0, 115.0, 120.0, 122.0, 124.0, 125.0, 126.0, 127.0, 128.0, 129.0, 130.0, 131.0, 132.0, 133.0, 134.0, 135.0, 136.0, 137.0, 138.0, 139.0, 140.0, 141.0, 142.0, 143.0, 144.0, 145.0, 146.0, 147.0, 150.0, nan, nan, nan, nan, nan, nan, nan, 163.0, nan, nan, nan, nan, nan, nan, nan, nan, nan, nan, nan, nan, nan, nan, nan, nan, nan, nan, nan, nan, nan, nan, nan, nan, nan, nan, nan, nan, nan, nan, nan, nan, nan, nan, nan, nan, nan, nan, nan, nan, nan, nan, nan, nan, nan}\n",
      "\n",
      "Column: potassium\n",
      "\n",
      "{nan, nan, 2.5, nan, nan, 3.2, 4.0, nan, nan, 3.7, nan, 4.2, 5.8, 6.4, nan, nan, 7.6, 3.5, 3.0, 4.5, 5.0, 5.5, nan, nan, nan, nan, nan, nan, nan, nan, nan, nan, 39.0, 47.0, nan, nan, nan, nan, nan, nan, nan, nan, nan, nan, 2.9, 3.4, 3.9, 4.9, 4.4, 5.9, 5.4, nan, nan, nan, nan, nan, nan, nan, nan, nan, nan, nan, nan, nan, nan, nan, nan, nan, nan, nan, nan, 2.8, 3.8, 3.3, 4.3, 4.8, 5.3, 6.3, nan, nan, nan, nan, nan, nan, nan, nan, nan, nan, nan, nan, nan, nan, nan, nan, nan, nan, nan, nan, 2.7, 4.7, nan, 5.2, 5.7, nan, nan, nan, nan, nan, nan, nan, nan, nan, nan, nan, 6.5, nan, nan, nan, nan, nan, 4.1, 4.6, 5.1, 5.6, 6.6, 3.6, nan, nan}\n",
      "\n",
      "Column: haemoglobin\n",
      "\n",
      "{nan, nan, nan, nan, nan, 5.6, nan, 7.6, 7.7, 9.6, 10.8, 11.2, 11.3, 11.6, 12.2, 15.4, 12.4, 9.5, 9.4, 12.6, 12.1, 12.7, 13.0, 15.0, 15.6, 16.1, 5.5, nan, nan, nan, nan, nan, nan, nan, 7.5, nan, nan, 8.0, 8.5, 9.0, 10.0, 10.5, 11.0, 11.5, 12.5, 12.0, 13.5, 14.0, 14.5, nan, nan, nan, nan, nan, nan, nan, 15.5, nan, 16.5, 16.4, 17.0, 16.9, 16.0, 16.6, 17.1, 17.4, 17.5, 17.6, nan, nan, nan, 6.0, nan, nan, nan, nan, 7.9, nan, 8.4, 9.9, 10.9, 10.4, 13.3, 11.9, 11.4, 12.9, 13.9, 13.4, 14.4, 14.9, 15.9, 4.8, 5.8, 6.8, 6.3, 7.3, 15.3, nan, nan, nan, nan, nan, nan, nan, nan, nan, nan, 8.3, 8.2, 8.7, 8.8, 9.7, 9.8, 9.3, 9.2, 10.3, 10.2, 10.7, 11.8, 11.7, 12.3, 12.8, 13.2, nan, nan, nan, 13.8, 14.3, nan, 13.7, nan, nan, 15.2, 14.2, 14.8, 15.7, 14.7, 16.2, 16.3, 16.7, 16.8, 15.8, 17.2, 17.3, 17.7, 17.8, 6.2, nan, nan, nan, nan, nan, 6.6, 6.1, 7.1, 8.6, 8.1, 9.1, 3.1, 10.1, 10.6, 11.1, 13.6, 13.1, 14.1, 14.6, 15.1}\n",
      "\n",
      "Column: packed_cell_volume\n",
      "\n",
      "{nan, nan, nan, nan, nan, nan, nan, nan, nan, nan, nan, nan, nan, nan, nan, nan, 16.0, 14.0, 18.0, 17.0, 19.0, 15.0, 22.0, 23.0, 24.0, 25.0, 26.0, 27.0, 28.0, 29.0, 30.0, nan, nan, nan, nan, nan, 31.0, 32.0, 33.0, 34.0, 35.0, 36.0, 37.0, 38.0, 39.0, 40.0, 41.0, 42.0, 44.0, 45.0, 46.0, 48.0, 52.0, 47.0, 9.0, 49.0, 50.0, 53.0, 51.0, 54.0, nan, nan, nan, nan, nan, nan, nan, nan, nan, nan, 20.0, 21.0, nan, nan, nan, nan, nan, nan, nan, nan, nan, nan, 43.0, nan, nan, nan, nan, nan, nan, nan, nan, nan, nan, nan, nan, nan, nan, nan, nan, nan, nan, nan, nan, nan, nan, nan, nan, nan, nan, nan, nan, nan, nan}\n",
      "\n",
      "Column: white_blood_cell_count\n",
      "\n",
      "{nan, nan, nan, nan, nan, nan, nan, nan, nan, nan, nan, nan, nan, nan, nan, nan, 8200.0, 12300.0, 7700.0, 11800.0, nan, nan, nan, nan, nan, nan, nan, nan, nan, 11300.0, 7200.0, 2600.0, 6700.0, 10800.0, 14900.0, 6200.0, 10300.0, 5700.0, 9800.0, nan, nan, nan, nan, nan, nan, nan, nan, nan, nan, 5200.0, 9300.0, 4700.0, 21600.0, 8800.0, 4200.0, 8300.0, 12400.0, 7800.0, 11900.0, 7300.0, 11400.0, 6800.0, 10900.0, 4100.0, nan, nan, 2200.0, nan, nan, nan, nan, nan, nan, nan, nan, nan, nan, nan, nan, nan, 10400.0, 5800.0, 9900.0, 5300.0, 9400.0, nan, nan, nan, nan, nan, nan, nan, nan, nan, nan, 4300.0, 8400.0, 12500.0, 3800.0, 7900.0, 12000.0, nan, nan, nan, 7400.0, 11500.0, 6900.0, 11000.0, 6400.0, 10500.0, 14600.0, 5900.0, nan, nan, nan, nan, nan, nan, nan, nan, nan, nan, 5400.0, 9500.0, 13600.0, 26400.0, 4900.0, 9000.0, 8500.0, 16700.0, 8000.0, nan, nan, 12100.0, nan, nan, nan, nan, nan, nan, nan, 7500.0, 15700.0, 7000.0, nan, nan, nan, nan, nan, nan, nan, 15200.0, 19100.0, nan, 6500.0, 6000.0, nan, nan, nan, nan, 5500.0, nan, nan, nan, 9600.0, nan, 5000.0, 9100.0, 13200.0, 12800.0, 4500.0, 8600.0, 12700.0, 8100.0, 12200.0, 16300.0, nan, nan, nan, nan, nan, 7100.0, nan, nan, nan, 11200.0, 6600.0, 10700.0, 6300.0, 18900.0, 10200.0, 5600.0, 9700.0, 5100.0, 9200.0}\n",
      "\n",
      "Column: red_blood_cell_count\n",
      "\n",
      "{nan, nan, nan, 3.9, 4.6, 5.2, 4.4, 5.0, 4.0, 3.7, nan, 3.8, 3.4, nan, nan, nan, 2.5, 3.5, 3.0, 4.5, 5.5, nan, nan, nan, nan, nan, nan, nan, nan, nan, nan, 8.0, 5.9, nan, nan, nan, nan, nan, nan, nan, nan, nan, nan, 5.7, nan, nan, nan, nan, nan, nan, nan, nan, 2.9, 2.4, nan, nan, nan, nan, nan, nan, nan, nan, nan, nan, nan, 4.9, nan, nan, nan, nan, 5.4, nan, nan, nan, nan, nan, nan, nan, nan, nan, nan, nan, 6.4, nan, nan, nan, nan, nan, nan, nan, nan, nan, nan, 2.8, 2.3, 3.3, 4.3, 4.8, 5.8, 5.3, 6.3, nan, nan, nan, nan, nan, nan, nan, nan, nan, nan, 6.5, nan, nan, nan, nan, nan, nan, 6.0, nan, nan, nan, nan, nan, nan, nan, nan, nan, nan, nan, nan, nan, 2.7, 3.2, 4.2, 4.7, nan, nan, nan, nan, nan, nan, nan, nan, nan, nan, 6.2, nan, nan, nan, nan, nan, nan, nan, nan, nan, nan, 4.1, 5.6, 5.1, 6.1, 2.6, 2.1, 3.6, 3.1, nan, nan, nan, nan, nan, nan, nan, nan, nan, nan, nan}\n",
      "\n",
      "Column: hypertension\n",
      "\n",
      "{'yes', nan, 'no'}\n",
      "\n",
      "Column: diabetes_mellitus\n",
      "\n",
      "{'no', nan, 'yes', '\\tyes', '\\tno', ' yes'}\n",
      "\n",
      "Column: coronary_artery_disease\n",
      "\n",
      "{'no', nan, '\\tno', 'yes'}\n",
      "\n",
      "Column: appetite\n",
      "\n",
      "{nan, 'good', 'poor'}\n",
      "\n",
      "Column: peda_edema\n",
      "\n",
      "{'no', nan, 'yes'}\n",
      "\n",
      "Column: aanemia\n",
      "\n",
      "{'no', nan, 'yes'}\n",
      "\n",
      "Column: class\n",
      "\n",
      "{'ckd\\t', 'notckd', 'ckd'}\n",
      "\n"
     ]
    }
   ],
   "source": [
    "# finding unique values in the columns\n",
    "\n",
    "for i in df.columns:\n",
    "    print(\"Column:\",i)\n",
    "    print()\n",
    "    print(set(df[i].tolist()))\n",
    "    print()"
   ]
  },
  {
   "cell_type": "code",
   "execution_count": 11,
   "id": "deac5298",
   "metadata": {},
   "outputs": [],
   "source": [
    "df['diabetes_mellitus'].replace(to_replace = {'\\tno':'no','\\tyes':'yes',' yes':'yes'},inplace=True)\n",
    "\n",
    "df['coronary_artery_disease'] = df['coronary_artery_disease'].replace(to_replace = '\\tno', value='no')\n",
    "\n",
    "df['class'] = df['class'].replace(to_replace = {'ckd\\t': 'ckd', 'notckd': 'not ckd'})"
   ]
  },
  {
   "cell_type": "code",
   "execution_count": 12,
   "id": "aea66850",
   "metadata": {},
   "outputs": [
    {
     "data": {
      "text/plain": [
       "age                          9\n",
       "blood_pressure              12\n",
       "specific_gravity            47\n",
       "albumin                     46\n",
       "sugar                       49\n",
       "red_blood_cells            152\n",
       "pus_cell                    65\n",
       "pus_cell_clumps              4\n",
       "bacteria                     4\n",
       "blood_glucose_random        44\n",
       "blood_urea                  19\n",
       "serum_creatinine            17\n",
       "sodium                      87\n",
       "potassium                   88\n",
       "haemoglobin                 52\n",
       "packed_cell_volume          71\n",
       "white_blood_cell_count     106\n",
       "red_blood_cell_count       131\n",
       "hypertension                 2\n",
       "diabetes_mellitus            2\n",
       "coronary_artery_disease      2\n",
       "appetite                     1\n",
       "peda_edema                   1\n",
       "aanemia                      1\n",
       "class                        0\n",
       "dtype: int64"
      ]
     },
     "execution_count": 12,
     "metadata": {},
     "output_type": "execute_result"
    }
   ],
   "source": [
    "# checking for null values\n",
    "df.isna().sum()"
   ]
  },
  {
   "cell_type": "code",
   "execution_count": 13,
   "id": "88bd3384",
   "metadata": {},
   "outputs": [],
   "source": [
    "from sklearn.impute import SimpleImputer\n",
    "\n",
    "catta_impute = SimpleImputer(strategy=\"most_frequent\")\n",
    "\n",
    "catta_data = catta_impute.fit_transform(categorical)\n",
    "catta_df = pd.DataFrame(catta_data, columns=categorical.columns)"
   ]
  },
  {
   "cell_type": "code",
   "execution_count": 14,
   "id": "6da9b859",
   "metadata": {},
   "outputs": [
    {
     "data": {
      "text/html": [
       "<div>\n",
       "<style scoped>\n",
       "    .dataframe tbody tr th:only-of-type {\n",
       "        vertical-align: middle;\n",
       "    }\n",
       "\n",
       "    .dataframe tbody tr th {\n",
       "        vertical-align: top;\n",
       "    }\n",
       "\n",
       "    .dataframe thead th {\n",
       "        text-align: right;\n",
       "    }\n",
       "</style>\n",
       "<table border=\"1\" class=\"dataframe\">\n",
       "  <thead>\n",
       "    <tr style=\"text-align: right;\">\n",
       "      <th></th>\n",
       "      <th>red_blood_cells</th>\n",
       "      <th>pus_cell</th>\n",
       "      <th>pus_cell_clumps</th>\n",
       "      <th>bacteria</th>\n",
       "      <th>hypertension</th>\n",
       "      <th>diabetes_mellitus</th>\n",
       "      <th>coronary_artery_disease</th>\n",
       "      <th>appetite</th>\n",
       "      <th>peda_edema</th>\n",
       "      <th>aanemia</th>\n",
       "      <th>class</th>\n",
       "    </tr>\n",
       "  </thead>\n",
       "  <tbody>\n",
       "    <tr>\n",
       "      <th>0</th>\n",
       "      <td>normal</td>\n",
       "      <td>normal</td>\n",
       "      <td>notpresent</td>\n",
       "      <td>notpresent</td>\n",
       "      <td>yes</td>\n",
       "      <td>yes</td>\n",
       "      <td>no</td>\n",
       "      <td>good</td>\n",
       "      <td>no</td>\n",
       "      <td>no</td>\n",
       "      <td>ckd</td>\n",
       "    </tr>\n",
       "    <tr>\n",
       "      <th>1</th>\n",
       "      <td>normal</td>\n",
       "      <td>normal</td>\n",
       "      <td>notpresent</td>\n",
       "      <td>notpresent</td>\n",
       "      <td>no</td>\n",
       "      <td>no</td>\n",
       "      <td>no</td>\n",
       "      <td>good</td>\n",
       "      <td>no</td>\n",
       "      <td>no</td>\n",
       "      <td>ckd</td>\n",
       "    </tr>\n",
       "    <tr>\n",
       "      <th>2</th>\n",
       "      <td>normal</td>\n",
       "      <td>normal</td>\n",
       "      <td>notpresent</td>\n",
       "      <td>notpresent</td>\n",
       "      <td>no</td>\n",
       "      <td>yes</td>\n",
       "      <td>no</td>\n",
       "      <td>poor</td>\n",
       "      <td>no</td>\n",
       "      <td>yes</td>\n",
       "      <td>ckd</td>\n",
       "    </tr>\n",
       "    <tr>\n",
       "      <th>3</th>\n",
       "      <td>normal</td>\n",
       "      <td>abnormal</td>\n",
       "      <td>present</td>\n",
       "      <td>notpresent</td>\n",
       "      <td>yes</td>\n",
       "      <td>no</td>\n",
       "      <td>no</td>\n",
       "      <td>poor</td>\n",
       "      <td>yes</td>\n",
       "      <td>yes</td>\n",
       "      <td>ckd</td>\n",
       "    </tr>\n",
       "    <tr>\n",
       "      <th>4</th>\n",
       "      <td>normal</td>\n",
       "      <td>normal</td>\n",
       "      <td>notpresent</td>\n",
       "      <td>notpresent</td>\n",
       "      <td>no</td>\n",
       "      <td>no</td>\n",
       "      <td>no</td>\n",
       "      <td>good</td>\n",
       "      <td>no</td>\n",
       "      <td>no</td>\n",
       "      <td>ckd</td>\n",
       "    </tr>\n",
       "  </tbody>\n",
       "</table>\n",
       "</div>"
      ],
      "text/plain": [
       "  red_blood_cells  pus_cell pus_cell_clumps    bacteria hypertension  \\\n",
       "0          normal    normal      notpresent  notpresent          yes   \n",
       "1          normal    normal      notpresent  notpresent           no   \n",
       "2          normal    normal      notpresent  notpresent           no   \n",
       "3          normal  abnormal         present  notpresent          yes   \n",
       "4          normal    normal      notpresent  notpresent           no   \n",
       "\n",
       "  diabetes_mellitus coronary_artery_disease appetite peda_edema aanemia class  \n",
       "0               yes                      no     good         no      no   ckd  \n",
       "1                no                      no     good         no      no   ckd  \n",
       "2               yes                      no     poor         no     yes   ckd  \n",
       "3                no                      no     poor        yes     yes   ckd  \n",
       "4                no                      no     good         no      no   ckd  "
      ]
     },
     "execution_count": 14,
     "metadata": {},
     "output_type": "execute_result"
    }
   ],
   "source": [
    "catta_df.head()"
   ]
  },
  {
   "cell_type": "code",
   "execution_count": 15,
   "id": "d945d70a",
   "metadata": {},
   "outputs": [
    {
     "data": {
      "text/plain": [
       "red_blood_cells            0\n",
       "pus_cell                   0\n",
       "pus_cell_clumps            0\n",
       "bacteria                   0\n",
       "hypertension               0\n",
       "diabetes_mellitus          0\n",
       "coronary_artery_disease    0\n",
       "appetite                   0\n",
       "peda_edema                 0\n",
       "aanemia                    0\n",
       "class                      0\n",
       "dtype: int64"
      ]
     },
     "execution_count": 15,
     "metadata": {},
     "output_type": "execute_result"
    }
   ],
   "source": [
    "catta_df.isna().sum()"
   ]
  },
  {
   "cell_type": "code",
   "execution_count": 16,
   "id": "3a5bc501",
   "metadata": {},
   "outputs": [
    {
     "data": {
      "text/html": [
       "<div>\n",
       "<style scoped>\n",
       "    .dataframe tbody tr th:only-of-type {\n",
       "        vertical-align: middle;\n",
       "    }\n",
       "\n",
       "    .dataframe tbody tr th {\n",
       "        vertical-align: top;\n",
       "    }\n",
       "\n",
       "    .dataframe thead th {\n",
       "        text-align: right;\n",
       "    }\n",
       "</style>\n",
       "<table border=\"1\" class=\"dataframe\">\n",
       "  <thead>\n",
       "    <tr style=\"text-align: right;\">\n",
       "      <th></th>\n",
       "      <th>age</th>\n",
       "      <th>bp</th>\n",
       "      <th>sg</th>\n",
       "      <th>al</th>\n",
       "      <th>su</th>\n",
       "      <th>bgr</th>\n",
       "      <th>bu</th>\n",
       "      <th>sc</th>\n",
       "      <th>sod</th>\n",
       "      <th>pot</th>\n",
       "      <th>hemo</th>\n",
       "    </tr>\n",
       "  </thead>\n",
       "  <tbody>\n",
       "    <tr>\n",
       "      <th>0</th>\n",
       "      <td>48.0</td>\n",
       "      <td>80.0</td>\n",
       "      <td>1.020</td>\n",
       "      <td>1.0</td>\n",
       "      <td>0.0</td>\n",
       "      <td>121.0</td>\n",
       "      <td>36.0</td>\n",
       "      <td>1.2</td>\n",
       "      <td>NaN</td>\n",
       "      <td>NaN</td>\n",
       "      <td>15.4</td>\n",
       "    </tr>\n",
       "    <tr>\n",
       "      <th>1</th>\n",
       "      <td>7.0</td>\n",
       "      <td>50.0</td>\n",
       "      <td>1.020</td>\n",
       "      <td>4.0</td>\n",
       "      <td>0.0</td>\n",
       "      <td>NaN</td>\n",
       "      <td>18.0</td>\n",
       "      <td>0.8</td>\n",
       "      <td>NaN</td>\n",
       "      <td>NaN</td>\n",
       "      <td>11.3</td>\n",
       "    </tr>\n",
       "    <tr>\n",
       "      <th>2</th>\n",
       "      <td>62.0</td>\n",
       "      <td>80.0</td>\n",
       "      <td>1.010</td>\n",
       "      <td>2.0</td>\n",
       "      <td>3.0</td>\n",
       "      <td>423.0</td>\n",
       "      <td>53.0</td>\n",
       "      <td>1.8</td>\n",
       "      <td>NaN</td>\n",
       "      <td>NaN</td>\n",
       "      <td>9.6</td>\n",
       "    </tr>\n",
       "    <tr>\n",
       "      <th>3</th>\n",
       "      <td>48.0</td>\n",
       "      <td>70.0</td>\n",
       "      <td>1.005</td>\n",
       "      <td>4.0</td>\n",
       "      <td>0.0</td>\n",
       "      <td>117.0</td>\n",
       "      <td>56.0</td>\n",
       "      <td>3.8</td>\n",
       "      <td>111.0</td>\n",
       "      <td>2.5</td>\n",
       "      <td>11.2</td>\n",
       "    </tr>\n",
       "    <tr>\n",
       "      <th>4</th>\n",
       "      <td>51.0</td>\n",
       "      <td>80.0</td>\n",
       "      <td>1.010</td>\n",
       "      <td>2.0</td>\n",
       "      <td>0.0</td>\n",
       "      <td>106.0</td>\n",
       "      <td>26.0</td>\n",
       "      <td>1.4</td>\n",
       "      <td>NaN</td>\n",
       "      <td>NaN</td>\n",
       "      <td>11.6</td>\n",
       "    </tr>\n",
       "  </tbody>\n",
       "</table>\n",
       "</div>"
      ],
      "text/plain": [
       "    age    bp     sg   al   su    bgr    bu   sc    sod  pot  hemo\n",
       "0  48.0  80.0  1.020  1.0  0.0  121.0  36.0  1.2    NaN  NaN  15.4\n",
       "1   7.0  50.0  1.020  4.0  0.0    NaN  18.0  0.8    NaN  NaN  11.3\n",
       "2  62.0  80.0  1.010  2.0  3.0  423.0  53.0  1.8    NaN  NaN   9.6\n",
       "3  48.0  70.0  1.005  4.0  0.0  117.0  56.0  3.8  111.0  2.5  11.2\n",
       "4  51.0  80.0  1.010  2.0  0.0  106.0  26.0  1.4    NaN  NaN  11.6"
      ]
     },
     "execution_count": 16,
     "metadata": {},
     "output_type": "execute_result"
    }
   ],
   "source": [
    "numericals = features.select_dtypes(include=[\"int\", \"float\"])\n",
    "numericals.drop('id', axis = 1, inplace = True)\n",
    "numericals.head()\n"
   ]
  },
  {
   "cell_type": "code",
   "execution_count": 17,
   "id": "af052902",
   "metadata": {},
   "outputs": [
    {
     "data": {
      "text/plain": [
       "age      9\n",
       "bp      12\n",
       "sg      47\n",
       "al      46\n",
       "su      49\n",
       "bgr     44\n",
       "bu      19\n",
       "sc      17\n",
       "sod     87\n",
       "pot     88\n",
       "hemo    52\n",
       "dtype: int64"
      ]
     },
     "execution_count": 17,
     "metadata": {},
     "output_type": "execute_result"
    }
   ],
   "source": [
    "numericals.isna().sum()"
   ]
  },
  {
   "cell_type": "code",
   "execution_count": 18,
   "id": "488e9c36",
   "metadata": {},
   "outputs": [],
   "source": [
    "num_impute = SimpleImputer(strategy=\"mean\")\n",
    "\n",
    "num_data = num_impute.fit_transform(numericals)\n",
    "num_df = pd.DataFrame(num_data, columns=numericals.columns)"
   ]
  },
  {
   "cell_type": "code",
   "execution_count": 19,
   "id": "5b42dcaf",
   "metadata": {},
   "outputs": [
    {
     "data": {
      "text/plain": [
       "age     0\n",
       "bp      0\n",
       "sg      0\n",
       "al      0\n",
       "su      0\n",
       "bgr     0\n",
       "bu      0\n",
       "sc      0\n",
       "sod     0\n",
       "pot     0\n",
       "hemo    0\n",
       "dtype: int64"
      ]
     },
     "execution_count": 19,
     "metadata": {},
     "output_type": "execute_result"
    }
   ],
   "source": [
    "num_df.isna().sum()"
   ]
  },
  {
   "cell_type": "code",
   "execution_count": 20,
   "id": "742b3024",
   "metadata": {},
   "outputs": [],
   "source": [
    "cleanedDf = pd.concat([num_df, catta_df, target], axis=1)\n",
    "cleanedDf.to_csv(\"CleanedCKDData.csv\", index=False)"
   ]
  },
  {
   "cell_type": "code",
   "execution_count": 21,
   "id": "590b94d5",
   "metadata": {},
   "outputs": [
    {
     "data": {
      "text/plain": [
       "(400, 25)"
      ]
     },
     "execution_count": 21,
     "metadata": {},
     "output_type": "execute_result"
    }
   ],
   "source": [
    "from sklearn import preprocessing\n",
    "\n",
    "df_encode = df.apply(preprocessing.LabelEncoder().fit_transform)\n",
    "df_encode.shape\n"
   ]
  },
  {
   "cell_type": "code",
   "execution_count": 22,
   "id": "229d7ccc",
   "metadata": {},
   "outputs": [],
   "source": [
    "X = df_encode.drop('class',axis=1)\n",
    "y = df_encode['class']"
   ]
  },
  {
   "cell_type": "code",
   "execution_count": 23,
   "id": "e1d36f18",
   "metadata": {},
   "outputs": [
    {
     "data": {
      "text/plain": [
       "(400, 8)"
      ]
     },
     "execution_count": 23,
     "metadata": {},
     "output_type": "execute_result"
    }
   ],
   "source": [
    "from sklearn.feature_selection import chi2,SelectKBest\n",
    "fs = SelectKBest(score_func=chi2, k=8)\n",
    "X_selected=fs.fit_transform(X,y)\n",
    "X_selected\n",
    "df_encode=pd.DataFrame(data=X_selected, columns=['albumin', 'blood_glucose_random', 'blood_urea', 'serum_creatinine','potassium', 'haemoglobin', 'packed_cell_volume', 'white_blood_cell_count' ])\n",
    "df_encode.shape"
   ]
  },
  {
   "cell_type": "code",
   "execution_count": 24,
   "id": "49d61d1f",
   "metadata": {},
   "outputs": [
    {
     "data": {
      "text/plain": [
       "(400, 11)"
      ]
     },
     "execution_count": 24,
     "metadata": {},
     "output_type": "execute_result"
    }
   ],
   "source": [
    "from sklearn.preprocessing import MinMaxScaler\n",
    "\n",
    "scaler = MinMaxScaler()\n",
    "\n",
    "scaled_data = scaler.fit_transform(num_df)\n",
    "MinMax_numericdf = pd.DataFrame(scaled_data, columns=num_df.columns)\n",
    "MinMax_numericdf.shape"
   ]
  },
  {
   "cell_type": "code",
   "execution_count": 25,
   "id": "e69f063e",
   "metadata": {},
   "outputs": [],
   "source": [
    "X = MinMax_numericdf\n",
    "y = target"
   ]
  },
  {
   "cell_type": "code",
   "execution_count": 26,
   "id": "b445c05e",
   "metadata": {},
   "outputs": [
    {
     "name": "stderr",
     "output_type": "stream",
     "text": [
      "/Users/Samphel/opt/anaconda3/lib/python3.9/site-packages/sklearn/utils/validation.py:993: DataConversionWarning: A column-vector y was passed when a 1d array was expected. Please change the shape of y to (n_samples, ), for example using ravel().\n",
      "  y = column_or_1d(y, warn=True)\n"
     ]
    },
    {
     "data": {
      "text/html": [
       "<div>\n",
       "<style scoped>\n",
       "    .dataframe tbody tr th:only-of-type {\n",
       "        vertical-align: middle;\n",
       "    }\n",
       "\n",
       "    .dataframe tbody tr th {\n",
       "        vertical-align: top;\n",
       "    }\n",
       "\n",
       "    .dataframe thead th {\n",
       "        text-align: right;\n",
       "    }\n",
       "</style>\n",
       "<table border=\"1\" class=\"dataframe\">\n",
       "  <thead>\n",
       "    <tr style=\"text-align: right;\">\n",
       "      <th></th>\n",
       "      <th>age</th>\n",
       "      <th>bp</th>\n",
       "      <th>sg</th>\n",
       "      <th>al</th>\n",
       "      <th>su</th>\n",
       "      <th>bgr</th>\n",
       "      <th>bu</th>\n",
       "      <th>sc</th>\n",
       "      <th>sod</th>\n",
       "      <th>pot</th>\n",
       "      <th>hemo</th>\n",
       "    </tr>\n",
       "  </thead>\n",
       "  <tbody>\n",
       "    <tr>\n",
       "      <th>0</th>\n",
       "      <td>0.522727</td>\n",
       "      <td>0.230769</td>\n",
       "      <td>0.75</td>\n",
       "      <td>0.2</td>\n",
       "      <td>0.0</td>\n",
       "      <td>0.211538</td>\n",
       "      <td>0.088575</td>\n",
       "      <td>0.010582</td>\n",
       "      <td>0.839298</td>\n",
       "      <td>0.047803</td>\n",
       "      <td>0.836735</td>\n",
       "    </tr>\n",
       "    <tr>\n",
       "      <th>1</th>\n",
       "      <td>0.056818</td>\n",
       "      <td>0.000000</td>\n",
       "      <td>0.75</td>\n",
       "      <td>0.8</td>\n",
       "      <td>0.0</td>\n",
       "      <td>0.269309</td>\n",
       "      <td>0.042362</td>\n",
       "      <td>0.005291</td>\n",
       "      <td>0.839298</td>\n",
       "      <td>0.047803</td>\n",
       "      <td>0.557823</td>\n",
       "    </tr>\n",
       "    <tr>\n",
       "      <th>2</th>\n",
       "      <td>0.681818</td>\n",
       "      <td>0.230769</td>\n",
       "      <td>0.25</td>\n",
       "      <td>0.4</td>\n",
       "      <td>0.6</td>\n",
       "      <td>0.856838</td>\n",
       "      <td>0.132221</td>\n",
       "      <td>0.018519</td>\n",
       "      <td>0.839298</td>\n",
       "      <td>0.047803</td>\n",
       "      <td>0.442177</td>\n",
       "    </tr>\n",
       "    <tr>\n",
       "      <th>3</th>\n",
       "      <td>0.522727</td>\n",
       "      <td>0.153846</td>\n",
       "      <td>0.00</td>\n",
       "      <td>0.8</td>\n",
       "      <td>0.0</td>\n",
       "      <td>0.202991</td>\n",
       "      <td>0.139923</td>\n",
       "      <td>0.044974</td>\n",
       "      <td>0.671924</td>\n",
       "      <td>0.000000</td>\n",
       "      <td>0.551020</td>\n",
       "    </tr>\n",
       "    <tr>\n",
       "      <th>4</th>\n",
       "      <td>0.556818</td>\n",
       "      <td>0.230769</td>\n",
       "      <td>0.25</td>\n",
       "      <td>0.4</td>\n",
       "      <td>0.0</td>\n",
       "      <td>0.179487</td>\n",
       "      <td>0.062901</td>\n",
       "      <td>0.013228</td>\n",
       "      <td>0.839298</td>\n",
       "      <td>0.047803</td>\n",
       "      <td>0.578231</td>\n",
       "    </tr>\n",
       "    <tr>\n",
       "      <th>...</th>\n",
       "      <td>...</td>\n",
       "      <td>...</td>\n",
       "      <td>...</td>\n",
       "      <td>...</td>\n",
       "      <td>...</td>\n",
       "      <td>...</td>\n",
       "      <td>...</td>\n",
       "      <td>...</td>\n",
       "      <td>...</td>\n",
       "      <td>...</td>\n",
       "      <td>...</td>\n",
       "    </tr>\n",
       "    <tr>\n",
       "      <th>395</th>\n",
       "      <td>0.602273</td>\n",
       "      <td>0.230769</td>\n",
       "      <td>0.75</td>\n",
       "      <td>0.0</td>\n",
       "      <td>0.0</td>\n",
       "      <td>0.252137</td>\n",
       "      <td>0.121951</td>\n",
       "      <td>0.001323</td>\n",
       "      <td>0.917981</td>\n",
       "      <td>0.053933</td>\n",
       "      <td>0.857143</td>\n",
       "    </tr>\n",
       "    <tr>\n",
       "      <th>396</th>\n",
       "      <td>0.454545</td>\n",
       "      <td>0.153846</td>\n",
       "      <td>1.00</td>\n",
       "      <td>0.0</td>\n",
       "      <td>0.0</td>\n",
       "      <td>0.113248</td>\n",
       "      <td>0.075738</td>\n",
       "      <td>0.010582</td>\n",
       "      <td>0.861199</td>\n",
       "      <td>0.022472</td>\n",
       "      <td>0.911565</td>\n",
       "    </tr>\n",
       "    <tr>\n",
       "      <th>397</th>\n",
       "      <td>0.113636</td>\n",
       "      <td>0.230769</td>\n",
       "      <td>0.75</td>\n",
       "      <td>0.0</td>\n",
       "      <td>0.0</td>\n",
       "      <td>0.166667</td>\n",
       "      <td>0.062901</td>\n",
       "      <td>0.002646</td>\n",
       "      <td>0.835962</td>\n",
       "      <td>0.042697</td>\n",
       "      <td>0.863946</td>\n",
       "    </tr>\n",
       "    <tr>\n",
       "      <th>398</th>\n",
       "      <td>0.170455</td>\n",
       "      <td>0.076923</td>\n",
       "      <td>1.00</td>\n",
       "      <td>0.0</td>\n",
       "      <td>0.0</td>\n",
       "      <td>0.196581</td>\n",
       "      <td>0.124519</td>\n",
       "      <td>0.007937</td>\n",
       "      <td>0.823344</td>\n",
       "      <td>0.053933</td>\n",
       "      <td>0.755102</td>\n",
       "    </tr>\n",
       "    <tr>\n",
       "      <th>399</th>\n",
       "      <td>0.636364</td>\n",
       "      <td>0.230769</td>\n",
       "      <td>1.00</td>\n",
       "      <td>0.0</td>\n",
       "      <td>0.0</td>\n",
       "      <td>0.232906</td>\n",
       "      <td>0.042362</td>\n",
       "      <td>0.009259</td>\n",
       "      <td>0.861199</td>\n",
       "      <td>0.022472</td>\n",
       "      <td>0.863946</td>\n",
       "    </tr>\n",
       "  </tbody>\n",
       "</table>\n",
       "<p>400 rows × 11 columns</p>\n",
       "</div>"
      ],
      "text/plain": [
       "          age        bp    sg   al   su       bgr        bu        sc  \\\n",
       "0    0.522727  0.230769  0.75  0.2  0.0  0.211538  0.088575  0.010582   \n",
       "1    0.056818  0.000000  0.75  0.8  0.0  0.269309  0.042362  0.005291   \n",
       "2    0.681818  0.230769  0.25  0.4  0.6  0.856838  0.132221  0.018519   \n",
       "3    0.522727  0.153846  0.00  0.8  0.0  0.202991  0.139923  0.044974   \n",
       "4    0.556818  0.230769  0.25  0.4  0.0  0.179487  0.062901  0.013228   \n",
       "..        ...       ...   ...  ...  ...       ...       ...       ...   \n",
       "395  0.602273  0.230769  0.75  0.0  0.0  0.252137  0.121951  0.001323   \n",
       "396  0.454545  0.153846  1.00  0.0  0.0  0.113248  0.075738  0.010582   \n",
       "397  0.113636  0.230769  0.75  0.0  0.0  0.166667  0.062901  0.002646   \n",
       "398  0.170455  0.076923  1.00  0.0  0.0  0.196581  0.124519  0.007937   \n",
       "399  0.636364  0.230769  1.00  0.0  0.0  0.232906  0.042362  0.009259   \n",
       "\n",
       "          sod       pot      hemo  \n",
       "0    0.839298  0.047803  0.836735  \n",
       "1    0.839298  0.047803  0.557823  \n",
       "2    0.839298  0.047803  0.442177  \n",
       "3    0.671924  0.000000  0.551020  \n",
       "4    0.839298  0.047803  0.578231  \n",
       "..        ...       ...       ...  \n",
       "395  0.917981  0.053933  0.857143  \n",
       "396  0.861199  0.022472  0.911565  \n",
       "397  0.835962  0.042697  0.863946  \n",
       "398  0.823344  0.053933  0.755102  \n",
       "399  0.861199  0.022472  0.863946  \n",
       "\n",
       "[400 rows x 11 columns]"
      ]
     },
     "execution_count": 26,
     "metadata": {},
     "output_type": "execute_result"
    }
   ],
   "source": [
    "from sklearn.feature_selection import f_classif\n",
    "fs=SelectKBest(score_func=f_classif,k=3)\n",
    "X_selected = fs.fit_transform(X,y)\n",
    "X"
   ]
  },
  {
   "cell_type": "code",
   "execution_count": 27,
   "id": "f78e43cf",
   "metadata": {},
   "outputs": [
    {
     "data": {
      "text/html": [
       "<div>\n",
       "<style scoped>\n",
       "    .dataframe tbody tr th:only-of-type {\n",
       "        vertical-align: middle;\n",
       "    }\n",
       "\n",
       "    .dataframe tbody tr th {\n",
       "        vertical-align: top;\n",
       "    }\n",
       "\n",
       "    .dataframe thead th {\n",
       "        text-align: right;\n",
       "    }\n",
       "</style>\n",
       "<table border=\"1\" class=\"dataframe\">\n",
       "  <thead>\n",
       "    <tr style=\"text-align: right;\">\n",
       "      <th></th>\n",
       "      <th>sg</th>\n",
       "      <th>al</th>\n",
       "      <th>hemo</th>\n",
       "    </tr>\n",
       "  </thead>\n",
       "  <tbody>\n",
       "    <tr>\n",
       "      <th>0</th>\n",
       "      <td>0.75</td>\n",
       "      <td>0.2</td>\n",
       "      <td>0.836735</td>\n",
       "    </tr>\n",
       "    <tr>\n",
       "      <th>1</th>\n",
       "      <td>0.75</td>\n",
       "      <td>0.8</td>\n",
       "      <td>0.557823</td>\n",
       "    </tr>\n",
       "    <tr>\n",
       "      <th>2</th>\n",
       "      <td>0.25</td>\n",
       "      <td>0.4</td>\n",
       "      <td>0.442177</td>\n",
       "    </tr>\n",
       "    <tr>\n",
       "      <th>3</th>\n",
       "      <td>0.00</td>\n",
       "      <td>0.8</td>\n",
       "      <td>0.551020</td>\n",
       "    </tr>\n",
       "    <tr>\n",
       "      <th>4</th>\n",
       "      <td>0.25</td>\n",
       "      <td>0.4</td>\n",
       "      <td>0.578231</td>\n",
       "    </tr>\n",
       "    <tr>\n",
       "      <th>...</th>\n",
       "      <td>...</td>\n",
       "      <td>...</td>\n",
       "      <td>...</td>\n",
       "    </tr>\n",
       "    <tr>\n",
       "      <th>395</th>\n",
       "      <td>0.75</td>\n",
       "      <td>0.0</td>\n",
       "      <td>0.857143</td>\n",
       "    </tr>\n",
       "    <tr>\n",
       "      <th>396</th>\n",
       "      <td>1.00</td>\n",
       "      <td>0.0</td>\n",
       "      <td>0.911565</td>\n",
       "    </tr>\n",
       "    <tr>\n",
       "      <th>397</th>\n",
       "      <td>0.75</td>\n",
       "      <td>0.0</td>\n",
       "      <td>0.863946</td>\n",
       "    </tr>\n",
       "    <tr>\n",
       "      <th>398</th>\n",
       "      <td>1.00</td>\n",
       "      <td>0.0</td>\n",
       "      <td>0.755102</td>\n",
       "    </tr>\n",
       "    <tr>\n",
       "      <th>399</th>\n",
       "      <td>1.00</td>\n",
       "      <td>0.0</td>\n",
       "      <td>0.863946</td>\n",
       "    </tr>\n",
       "  </tbody>\n",
       "</table>\n",
       "<p>400 rows × 3 columns</p>\n",
       "</div>"
      ],
      "text/plain": [
       "       sg   al      hemo\n",
       "0    0.75  0.2  0.836735\n",
       "1    0.75  0.8  0.557823\n",
       "2    0.25  0.4  0.442177\n",
       "3    0.00  0.8  0.551020\n",
       "4    0.25  0.4  0.578231\n",
       "..    ...  ...       ...\n",
       "395  0.75  0.0  0.857143\n",
       "396  1.00  0.0  0.911565\n",
       "397  0.75  0.0  0.863946\n",
       "398  1.00  0.0  0.755102\n",
       "399  1.00  0.0  0.863946\n",
       "\n",
       "[400 rows x 3 columns]"
      ]
     },
     "execution_count": 27,
     "metadata": {},
     "output_type": "execute_result"
    }
   ],
   "source": [
    "MinMax_numericdf=pd.DataFrame(data=X_selected, columns=['sg', 'al', 'hemo'])\n",
    "MinMax_numericdf"
   ]
  },
  {
   "cell_type": "code",
   "execution_count": 28,
   "id": "5d53f3e3",
   "metadata": {},
   "outputs": [
    {
     "data": {
      "text/html": [
       "<div>\n",
       "<style scoped>\n",
       "    .dataframe tbody tr th:only-of-type {\n",
       "        vertical-align: middle;\n",
       "    }\n",
       "\n",
       "    .dataframe tbody tr th {\n",
       "        vertical-align: top;\n",
       "    }\n",
       "\n",
       "    .dataframe thead th {\n",
       "        text-align: right;\n",
       "    }\n",
       "</style>\n",
       "<table border=\"1\" class=\"dataframe\">\n",
       "  <thead>\n",
       "    <tr style=\"text-align: right;\">\n",
       "      <th></th>\n",
       "      <th>albumin</th>\n",
       "      <th>blood_glucose_random</th>\n",
       "      <th>blood_urea</th>\n",
       "      <th>serum_creatinine</th>\n",
       "      <th>potassium</th>\n",
       "      <th>haemoglobin</th>\n",
       "      <th>packed_cell_volume</th>\n",
       "      <th>white_blood_cell_count</th>\n",
       "      <th>sg</th>\n",
       "      <th>al</th>\n",
       "      <th>hemo</th>\n",
       "    </tr>\n",
       "  </thead>\n",
       "  <tbody>\n",
       "    <tr>\n",
       "      <th>0</th>\n",
       "      <td>1</td>\n",
       "      <td>48</td>\n",
       "      <td>23</td>\n",
       "      <td>8</td>\n",
       "      <td>40</td>\n",
       "      <td>90</td>\n",
       "      <td>31</td>\n",
       "      <td>35</td>\n",
       "      <td>0.75</td>\n",
       "      <td>0.2</td>\n",
       "      <td>0.836735</td>\n",
       "    </tr>\n",
       "    <tr>\n",
       "      <th>1</th>\n",
       "      <td>4</td>\n",
       "      <td>146</td>\n",
       "      <td>5</td>\n",
       "      <td>4</td>\n",
       "      <td>40</td>\n",
       "      <td>49</td>\n",
       "      <td>25</td>\n",
       "      <td>19</td>\n",
       "      <td>0.75</td>\n",
       "      <td>0.8</td>\n",
       "      <td>0.557823</td>\n",
       "    </tr>\n",
       "    <tr>\n",
       "      <th>2</th>\n",
       "      <td>2</td>\n",
       "      <td>140</td>\n",
       "      <td>40</td>\n",
       "      <td>14</td>\n",
       "      <td>40</td>\n",
       "      <td>32</td>\n",
       "      <td>18</td>\n",
       "      <td>33</td>\n",
       "      <td>0.25</td>\n",
       "      <td>0.4</td>\n",
       "      <td>0.442177</td>\n",
       "    </tr>\n",
       "    <tr>\n",
       "      <th>3</th>\n",
       "      <td>4</td>\n",
       "      <td>44</td>\n",
       "      <td>43</td>\n",
       "      <td>32</td>\n",
       "      <td>0</td>\n",
       "      <td>48</td>\n",
       "      <td>19</td>\n",
       "      <td>25</td>\n",
       "      <td>0.00</td>\n",
       "      <td>0.8</td>\n",
       "      <td>0.551020</td>\n",
       "    </tr>\n",
       "    <tr>\n",
       "      <th>4</th>\n",
       "      <td>2</td>\n",
       "      <td>33</td>\n",
       "      <td>13</td>\n",
       "      <td>10</td>\n",
       "      <td>40</td>\n",
       "      <td>52</td>\n",
       "      <td>22</td>\n",
       "      <td>31</td>\n",
       "      <td>0.25</td>\n",
       "      <td>0.4</td>\n",
       "      <td>0.578231</td>\n",
       "    </tr>\n",
       "    <tr>\n",
       "      <th>...</th>\n",
       "      <td>...</td>\n",
       "      <td>...</td>\n",
       "      <td>...</td>\n",
       "      <td>...</td>\n",
       "      <td>...</td>\n",
       "      <td>...</td>\n",
       "      <td>...</td>\n",
       "      <td>...</td>\n",
       "      <td>...</td>\n",
       "      <td>...</td>\n",
       "      <td>...</td>\n",
       "    </tr>\n",
       "    <tr>\n",
       "      <th>395</th>\n",
       "      <td>0</td>\n",
       "      <td>64</td>\n",
       "      <td>35</td>\n",
       "      <td>1</td>\n",
       "      <td>22</td>\n",
       "      <td>93</td>\n",
       "      <td>34</td>\n",
       "      <td>25</td>\n",
       "      <td>0.75</td>\n",
       "      <td>0.0</td>\n",
       "      <td>0.857143</td>\n",
       "    </tr>\n",
       "    <tr>\n",
       "      <th>396</th>\n",
       "      <td>0</td>\n",
       "      <td>3</td>\n",
       "      <td>18</td>\n",
       "      <td>8</td>\n",
       "      <td>8</td>\n",
       "      <td>101</td>\n",
       "      <td>41</td>\n",
       "      <td>35</td>\n",
       "      <td>1.00</td>\n",
       "      <td>0.0</td>\n",
       "      <td>0.911565</td>\n",
       "    </tr>\n",
       "    <tr>\n",
       "      <th>397</th>\n",
       "      <td>0</td>\n",
       "      <td>27</td>\n",
       "      <td>13</td>\n",
       "      <td>2</td>\n",
       "      <td>17</td>\n",
       "      <td>94</td>\n",
       "      <td>36</td>\n",
       "      <td>24</td>\n",
       "      <td>0.75</td>\n",
       "      <td>0.0</td>\n",
       "      <td>0.863946</td>\n",
       "    </tr>\n",
       "    <tr>\n",
       "      <th>398</th>\n",
       "      <td>0</td>\n",
       "      <td>41</td>\n",
       "      <td>36</td>\n",
       "      <td>6</td>\n",
       "      <td>22</td>\n",
       "      <td>78</td>\n",
       "      <td>38</td>\n",
       "      <td>30</td>\n",
       "      <td>1.00</td>\n",
       "      <td>0.0</td>\n",
       "      <td>0.755102</td>\n",
       "    </tr>\n",
       "    <tr>\n",
       "      <th>399</th>\n",
       "      <td>0</td>\n",
       "      <td>57</td>\n",
       "      <td>5</td>\n",
       "      <td>7</td>\n",
       "      <td>8</td>\n",
       "      <td>94</td>\n",
       "      <td>40</td>\n",
       "      <td>26</td>\n",
       "      <td>1.00</td>\n",
       "      <td>0.0</td>\n",
       "      <td>0.863946</td>\n",
       "    </tr>\n",
       "  </tbody>\n",
       "</table>\n",
       "<p>400 rows × 11 columns</p>\n",
       "</div>"
      ],
      "text/plain": [
       "     albumin  blood_glucose_random  blood_urea  serum_creatinine  potassium  \\\n",
       "0          1                    48          23                 8         40   \n",
       "1          4                   146           5                 4         40   \n",
       "2          2                   140          40                14         40   \n",
       "3          4                    44          43                32          0   \n",
       "4          2                    33          13                10         40   \n",
       "..       ...                   ...         ...               ...        ...   \n",
       "395        0                    64          35                 1         22   \n",
       "396        0                     3          18                 8          8   \n",
       "397        0                    27          13                 2         17   \n",
       "398        0                    41          36                 6         22   \n",
       "399        0                    57           5                 7          8   \n",
       "\n",
       "     haemoglobin  packed_cell_volume  white_blood_cell_count    sg   al  \\\n",
       "0             90                  31                      35  0.75  0.2   \n",
       "1             49                  25                      19  0.75  0.8   \n",
       "2             32                  18                      33  0.25  0.4   \n",
       "3             48                  19                      25  0.00  0.8   \n",
       "4             52                  22                      31  0.25  0.4   \n",
       "..           ...                 ...                     ...   ...  ...   \n",
       "395           93                  34                      25  0.75  0.0   \n",
       "396          101                  41                      35  1.00  0.0   \n",
       "397           94                  36                      24  0.75  0.0   \n",
       "398           78                  38                      30  1.00  0.0   \n",
       "399           94                  40                      26  1.00  0.0   \n",
       "\n",
       "         hemo  \n",
       "0    0.836735  \n",
       "1    0.557823  \n",
       "2    0.442177  \n",
       "3    0.551020  \n",
       "4    0.578231  \n",
       "..        ...  \n",
       "395  0.857143  \n",
       "396  0.911565  \n",
       "397  0.863946  \n",
       "398  0.755102  \n",
       "399  0.863946  \n",
       "\n",
       "[400 rows x 11 columns]"
      ]
     },
     "execution_count": 28,
     "metadata": {},
     "output_type": "execute_result"
    }
   ],
   "source": [
    "X = pd.concat([df_encode, MinMax_numericdf], axis=1)\n",
    "X"
   ]
  },
  {
   "cell_type": "code",
   "execution_count": 29,
   "id": "6712861e",
   "metadata": {},
   "outputs": [
    {
     "data": {
      "text/html": [
       "<div>\n",
       "<style scoped>\n",
       "    .dataframe tbody tr th:only-of-type {\n",
       "        vertical-align: middle;\n",
       "    }\n",
       "\n",
       "    .dataframe tbody tr th {\n",
       "        vertical-align: top;\n",
       "    }\n",
       "\n",
       "    .dataframe thead th {\n",
       "        text-align: right;\n",
       "    }\n",
       "</style>\n",
       "<table border=\"1\" class=\"dataframe\">\n",
       "  <thead>\n",
       "    <tr style=\"text-align: right;\">\n",
       "      <th></th>\n",
       "      <th>class</th>\n",
       "    </tr>\n",
       "  </thead>\n",
       "  <tbody>\n",
       "    <tr>\n",
       "      <th>0</th>\n",
       "      <td>ckd</td>\n",
       "    </tr>\n",
       "    <tr>\n",
       "      <th>1</th>\n",
       "      <td>ckd</td>\n",
       "    </tr>\n",
       "    <tr>\n",
       "      <th>2</th>\n",
       "      <td>ckd</td>\n",
       "    </tr>\n",
       "    <tr>\n",
       "      <th>3</th>\n",
       "      <td>ckd</td>\n",
       "    </tr>\n",
       "    <tr>\n",
       "      <th>4</th>\n",
       "      <td>ckd</td>\n",
       "    </tr>\n",
       "    <tr>\n",
       "      <th>...</th>\n",
       "      <td>...</td>\n",
       "    </tr>\n",
       "    <tr>\n",
       "      <th>395</th>\n",
       "      <td>notckd</td>\n",
       "    </tr>\n",
       "    <tr>\n",
       "      <th>396</th>\n",
       "      <td>notckd</td>\n",
       "    </tr>\n",
       "    <tr>\n",
       "      <th>397</th>\n",
       "      <td>notckd</td>\n",
       "    </tr>\n",
       "    <tr>\n",
       "      <th>398</th>\n",
       "      <td>notckd</td>\n",
       "    </tr>\n",
       "    <tr>\n",
       "      <th>399</th>\n",
       "      <td>notckd</td>\n",
       "    </tr>\n",
       "  </tbody>\n",
       "</table>\n",
       "<p>400 rows × 1 columns</p>\n",
       "</div>"
      ],
      "text/plain": [
       "      class\n",
       "0       ckd\n",
       "1       ckd\n",
       "2       ckd\n",
       "3       ckd\n",
       "4       ckd\n",
       "..      ...\n",
       "395  notckd\n",
       "396  notckd\n",
       "397  notckd\n",
       "398  notckd\n",
       "399  notckd\n",
       "\n",
       "[400 rows x 1 columns]"
      ]
     },
     "execution_count": 29,
     "metadata": {},
     "output_type": "execute_result"
    }
   ],
   "source": [
    "y = target\n",
    "y"
   ]
  },
  {
   "cell_type": "code",
   "execution_count": 30,
   "id": "267ed995",
   "metadata": {},
   "outputs": [
    {
     "name": "stdout",
     "output_type": "stream",
     "text": [
      "x_train shape:  (320, 11)\n",
      "y_train shape:  (320, 1)\n",
      "\n",
      "x_test shape:  (80, 11)\n",
      "y_test shape:  (80, 1)\n"
     ]
    }
   ],
   "source": [
    "from sklearn.model_selection import train_test_split\n",
    "\n",
    "x_train, x_test, y_train, y_test = train_test_split(X, y, test_size=0.2, random_state=42, stratify=y)\n",
    "\n",
    "print(\"x_train shape: \", x_train.shape)\n",
    "print(\"y_train shape: \", y_train.shape)\n",
    "print()\n",
    "print(\"x_test shape: \", x_test.shape)\n",
    "print(\"y_test shape: \", y_test.shape)"
   ]
  },
  {
   "cell_type": "code",
   "execution_count": 31,
   "id": "e4c9d18a",
   "metadata": {},
   "outputs": [],
   "source": [
    "from sklearn.model_selection import ShuffleSplit,GridSearchCV,StratifiedKFold\n",
    "from sklearn.linear_model import LogisticRegression\n",
    "from sklearn.tree import DecisionTreeClassifier\n",
    "from sklearn.ensemble import RandomForestClassifier\n",
    "from sklearn.svm import SVC\n",
    "from sklearn.neighbors import KNeighborsClassifier"
   ]
  },
  {
   "cell_type": "code",
   "execution_count": 32,
   "id": "1252ee11",
   "metadata": {},
   "outputs": [],
   "source": [
    "from sklearn.metrics import confusion_matrix\n",
    "import matplotlib.pyplot as plt\n",
    "import seaborn as sns\n",
    "\n",
    "# Function to plot confusion matrix\n",
    "def plot_confusion_matrix(y_test, y_pred, title, color):\n",
    "    \n",
    "    plt.figure(figsize=(14, 12))\n",
    "    \n",
    "    cm = confusion_matrix(y_test, y_pred)\n",
    "    sns.heatmap(cm, annot=True, cmap=color)\n",
    "\n",
    "    plt.title(title)\n",
    "    plt.ylabel(\"True Label\")\n",
    "    plt.xlabel(\"Predicted Label\")\n",
    "    plt.tight_layout()\n",
    "    \n",
    "    plt.show()"
   ]
  },
  {
   "cell_type": "code",
   "execution_count": 33,
   "id": "c1107cb3",
   "metadata": {},
   "outputs": [
    {
     "name": "stdout",
     "output_type": "stream",
     "text": [
      "Actual Labels: [['ckd'], ['ckd'], ['notckd'], ['notckd'], ['notckd'], ['ckd'], ['ckd'], ['ckd'], ['notckd'], ['ckd']]\n",
      "Predicted Labels: [['ckd'], ['ckd'], ['notckd'], ['notckd'], ['notckd'], ['ckd'], ['ckd'], ['ckd'], ['notckd'], ['ckd']]\n"
     ]
    },
    {
     "name": "stderr",
     "output_type": "stream",
     "text": [
      "/Users/Samphel/opt/anaconda3/lib/python3.9/site-packages/sklearn/utils/validation.py:993: DataConversionWarning: A column-vector y was passed when a 1d array was expected. Please change the shape of y to (n_samples, ), for example using ravel().\n",
      "  y = column_or_1d(y, warn=True)\n",
      "/Users/Samphel/opt/anaconda3/lib/python3.9/site-packages/sklearn/linear_model/_logistic.py:814: ConvergenceWarning: lbfgs failed to converge (status=1):\n",
      "STOP: TOTAL NO. of ITERATIONS REACHED LIMIT.\n",
      "\n",
      "Increase the number of iterations (max_iter) or scale the data as shown in:\n",
      "    https://scikit-learn.org/stable/modules/preprocessing.html\n",
      "Please also refer to the documentation for alternative solver options:\n",
      "    https://scikit-learn.org/stable/modules/linear_model.html#logistic-regression\n",
      "  n_iter_i = _check_optimize_result(\n"
     ]
    }
   ],
   "source": [
    "lr = LogisticRegression()\n",
    "\n",
    "lr.fit(x_train, y_train)\n",
    "\n",
    "lr_pred = lr.predict(x_test)\n",
    "\n",
    "print(\"Actual Labels:\", y_test.values.tolist()[:10])\n",
    "print(\"Predicted Labels:\", pd.DataFrame(lr_pred[:10]).values.tolist()[:10])"
   ]
  },
  {
   "cell_type": "code",
   "execution_count": 34,
   "id": "42f96b54",
   "metadata": {},
   "outputs": [
    {
     "data": {
      "image/png": "[encoded data removed]",
      "text/plain": [
       "<Figure size 1008x864 with 2 Axes>"
      ]
     },
     "metadata": {
      "needs_background": "light"
     },
     "output_type": "display_data"
    }
   ],
   "source": [
    "plot_confusion_matrix(y_test, lr_pred, \"Confustion Matrix - Logistic Regression\", \"Greens_r\")"
   ]
  },
  {
   "cell_type": "code",
   "execution_count": 35,
   "id": "24efab6d",
   "metadata": {},
   "outputs": [
    {
     "name": "stdout",
     "output_type": "stream",
     "text": [
      "Logistic Regression Accuracy: 0.925\n"
     ]
    }
   ],
   "source": [
    "# Calculate the Accuracy of the Logistic Regression\n",
    "from sklearn.metrics import accuracy_score\n",
    "\n",
    "lr_acc = round(accuracy_score(y_test, lr_pred), 4)\n",
    "\n",
    "print(\"Logistic Regression Accuracy:\", lr_acc)"
   ]
  },
  {
   "cell_type": "code",
   "execution_count": 36,
   "id": "21959dfa",
   "metadata": {},
   "outputs": [
    {
     "name": "stdout",
     "output_type": "stream",
     "text": [
      "Actual Labels: [['ckd'], ['ckd'], ['notckd'], ['notckd'], ['notckd'], ['ckd'], ['ckd'], ['ckd'], ['notckd'], ['ckd']]\n",
      "Predicted Labels: [['notckd'], ['ckd'], ['notckd'], ['notckd'], ['notckd'], ['ckd'], ['ckd'], ['ckd'], ['notckd'], ['ckd']]\n"
     ]
    },
    {
     "name": "stderr",
     "output_type": "stream",
     "text": [
      "/Users/Samphel/opt/anaconda3/lib/python3.9/site-packages/sklearn/neighbors/_classification.py:198: DataConversionWarning: A column-vector y was passed when a 1d array was expected. Please change the shape of y to (n_samples,), for example using ravel().\n",
      "  return self._fit(X, y)\n"
     ]
    }
   ],
   "source": [
    "knn = KNeighborsClassifier()\n",
    "\n",
    "knn.fit(x_train, y_train)\n",
    "\n",
    "# Make a prediction\n",
    "knn_pred = knn.predict(x_test)\n",
    "\n",
    "print(\"Actual Labels:\", y_test.values.tolist()[:10])\n",
    "print(\"Predicted Labels:\", pd.DataFrame(knn_pred[:10]).values.tolist()[:10])"
   ]
  },
  {
   "cell_type": "code",
   "execution_count": 37,
   "id": "f6639f63",
   "metadata": {},
   "outputs": [
    {
     "data": {
      "image/png": "[encoded data removed]",
      "text/plain": [
       "<Figure size 1008x864 with 2 Axes>"
      ]
     },
     "metadata": {
      "needs_background": "light"
     },
     "output_type": "display_data"
    }
   ],
   "source": [
    "plot_confusion_matrix(y_test, knn_pred, \"Confusion Matrix - K-Nearest Neighbors\", \"Blues\")"
   ]
  },
  {
   "cell_type": "code",
   "execution_count": 38,
   "id": "06ecce48",
   "metadata": {},
   "outputs": [
    {
     "name": "stdout",
     "output_type": "stream",
     "text": [
      "K-Nearest Neighbors Accuracy: 0.9125\n"
     ]
    }
   ],
   "source": [
    "knn_acc = round(accuracy_score(y_test, knn_pred), 4)\n",
    "\n",
    "print(\"K-Nearest Neighbors Accuracy:\", knn_acc)"
   ]
  },
  {
   "cell_type": "code",
   "execution_count": 39,
   "id": "5faadb88",
   "metadata": {},
   "outputs": [
    {
     "name": "stdout",
     "output_type": "stream",
     "text": [
      "Actual Labels: [['ckd'], ['ckd'], ['notckd'], ['notckd'], ['notckd'], ['ckd'], ['ckd'], ['ckd'], ['notckd'], ['ckd']]\n",
      "Predicted Labels: [['ckd'], ['ckd'], ['notckd'], ['notckd'], ['notckd'], ['ckd'], ['ckd'], ['ckd'], ['notckd'], ['ckd']]\n"
     ]
    }
   ],
   "source": [
    "tree = DecisionTreeClassifier()\n",
    "\n",
    "tree.fit(x_train, y_train)\n",
    "\n",
    "# Make a predictions\n",
    "tree_pred = tree.predict(x_test)\n",
    "\n",
    "print(\"Actual Labels:\", y_test.values.tolist()[:10])\n",
    "print(\"Predicted Labels:\", pd.DataFrame(tree_pred[:10]).values.tolist()[:10])"
   ]
  },
  {
   "cell_type": "code",
   "execution_count": 40,
   "id": "186f3b1b",
   "metadata": {},
   "outputs": [
    {
     "data": {
      "image/png": "[encoded data removed]",
      "text/plain": [
       "<Figure size 1008x864 with 2 Axes>"
      ]
     },
     "metadata": {
      "needs_background": "light"
     },
     "output_type": "display_data"
    }
   ],
   "source": [
    "plot_confusion_matrix(y_test, tree_pred, \"Confusion Matrix - Decision Tree\", \"cool_r\")"
   ]
  },
  {
   "cell_type": "code",
   "execution_count": 41,
   "id": "5e93f7d1",
   "metadata": {},
   "outputs": [
    {
     "name": "stdout",
     "output_type": "stream",
     "text": [
      "Decision Tree Accuracy: 0.9125\n"
     ]
    }
   ],
   "source": [
    "tree_acc = round(accuracy_score(y_test, tree_pred), 4)\n",
    "\n",
    "print(\"Decision Tree Accuracy:\", tree_acc)"
   ]
  },
  {
   "cell_type": "code",
   "execution_count": 42,
   "id": "0651082d",
   "metadata": {},
   "outputs": [
    {
     "name": "stdout",
     "output_type": "stream",
     "text": [
      "Actual Labels: [['ckd'], ['ckd'], ['notckd'], ['notckd'], ['notckd'], ['ckd'], ['ckd'], ['ckd'], ['notckd'], ['ckd']]\n",
      "Predicted Labels: [['ckd'], ['ckd'], ['notckd'], ['notckd'], ['notckd'], ['ckd'], ['ckd'], ['ckd'], ['notckd'], ['ckd']]\n"
     ]
    },
    {
     "name": "stderr",
     "output_type": "stream",
     "text": [
      "/Users/Samphel/opt/anaconda3/lib/python3.9/site-packages/sklearn/utils/validation.py:993: DataConversionWarning: A column-vector y was passed when a 1d array was expected. Please change the shape of y to (n_samples, ), for example using ravel().\n",
      "  y = column_or_1d(y, warn=True)\n"
     ]
    }
   ],
   "source": [
    "svm = SVC()\n",
    "\n",
    "svm.fit(x_train, y_train)\n",
    "\n",
    "# Make a prediction\n",
    "svm_pred = svm.predict(x_test)\n",
    "\n",
    "print(\"Actual Labels:\", y_test.values.tolist()[:10])\n",
    "print(\"Predicted Labels:\", pd.DataFrame(svm_pred[:10]).values.tolist()[:10])"
   ]
  },
  {
   "cell_type": "code",
   "execution_count": 43,
   "id": "280546b7",
   "metadata": {},
   "outputs": [
    {
     "data": {
      "image/png": "[encoded data removed]",
      "text/plain": [
       "<Figure size 1008x864 with 2 Axes>"
      ]
     },
     "metadata": {
      "needs_background": "light"
     },
     "output_type": "display_data"
    }
   ],
   "source": [
    "plot_confusion_matrix(y_test, svm_pred, \"Confustion Matrix - Support Vector Machines(SVM)\", \"terrain\")"
   ]
  },
  {
   "cell_type": "code",
   "execution_count": 44,
   "id": "2fc56cb2",
   "metadata": {},
   "outputs": [
    {
     "name": "stdout",
     "output_type": "stream",
     "text": [
      "Support Vector Machines(SVM) Accuracy: 0.925\n"
     ]
    }
   ],
   "source": [
    "svm_acc = round(accuracy_score(y_test, svm_pred), 4)\n",
    "\n",
    "print(\"Support Vector Machines(SVM) Accuracy:\", svm_acc)"
   ]
  },
  {
   "cell_type": "code",
   "execution_count": 45,
   "id": "7afd4acf",
   "metadata": {},
   "outputs": [
    {
     "data": {
      "text/html": [
       "<div>\n",
       "<style scoped>\n",
       "    .dataframe tbody tr th:only-of-type {\n",
       "        vertical-align: middle;\n",
       "    }\n",
       "\n",
       "    .dataframe tbody tr th {\n",
       "        vertical-align: top;\n",
       "    }\n",
       "\n",
       "    .dataframe thead th {\n",
       "        text-align: right;\n",
       "    }\n",
       "</style>\n",
       "<table border=\"1\" class=\"dataframe\">\n",
       "  <thead>\n",
       "    <tr style=\"text-align: right;\">\n",
       "      <th></th>\n",
       "      <th>Accuracy</th>\n",
       "    </tr>\n",
       "  </thead>\n",
       "  <tbody>\n",
       "    <tr>\n",
       "      <th>LR</th>\n",
       "      <td>0.9250</td>\n",
       "    </tr>\n",
       "    <tr>\n",
       "      <th>KNN</th>\n",
       "      <td>0.9125</td>\n",
       "    </tr>\n",
       "    <tr>\n",
       "      <th>D-Tree</th>\n",
       "      <td>0.9125</td>\n",
       "    </tr>\n",
       "    <tr>\n",
       "      <th>SVM</th>\n",
       "      <td>0.9250</td>\n",
       "    </tr>\n",
       "  </tbody>\n",
       "</table>\n",
       "</div>"
      ],
      "text/plain": [
       "        Accuracy\n",
       "LR        0.9250\n",
       "KNN       0.9125\n",
       "D-Tree    0.9125\n",
       "SVM       0.9250"
      ]
     },
     "execution_count": 45,
     "metadata": {},
     "output_type": "execute_result"
    }
   ],
   "source": [
    "\n",
    "names = [\"LR\", \"KNN\", \"D-Tree\", \"SVM\"]\n",
    "acc = [lr_acc, knn_acc, tree_acc, svm_acc]\n",
    "\n",
    "models = pd.DataFrame(acc, index=names, columns=[\"Accuracy\"])\n",
    "models"
   ]
  },
  {
   "cell_type": "code",
   "execution_count": 46,
   "id": "12f06330",
   "metadata": {},
   "outputs": [],
   "source": [
    "# import library to save the trained ML model\n",
    "import pickle\n",
    "\n",
    "# save the model\n",
    "rf_pickle = open(\"logisticRegressionModel.pickle\", \"wb\")\n",
    "pickle.dump(lr, rf_pickle)\n",
    "rf_pickle.close()"
   ]
  },
  {
   "cell_type": "markdown",
   "id": "5f487a9a",
   "metadata": {},
   "source": [
    "With pipeline"
   ]
  },
  {
   "cell_type": "code",
   "execution_count": 47,
   "id": "323d96dc",
   "metadata": {},
   "outputs": [
    {
     "name": "stdout",
     "output_type": "stream",
     "text": [
      "Index(['id', 'age', 'bp', 'sg', 'al', 'su', 'bgr', 'bu', 'sc', 'sod', 'pot',\n",
      "       'hemo'],\n",
      "      dtype='object')\n",
      "Index(['rbc', 'pc', 'pcc', 'ba', 'pcv', 'wc', 'rc', 'htn', 'dm', 'cad',\n",
      "       'appet', 'pe', 'ane'],\n",
      "      dtype='object')\n"
     ]
    }
   ],
   "source": [
    "# Separate the Categorical and Numerical Columns\n",
    "\n",
    "# Numeric columns\n",
    "numeric_cols = features.select_dtypes(include=['int64','float64']).columns\n",
    "print(numeric_cols)\n",
    "\n",
    "\n",
    "# categorical columns\n",
    "categorical_cols = features.select_dtypes(include=['object']).columns\n",
    "print(categorical_cols)"
   ]
  },
  {
   "cell_type": "code",
   "execution_count": 48,
   "id": "32fec0fa",
   "metadata": {},
   "outputs": [
    {
     "data": {
      "text/plain": [
       "Pipeline(steps=[('imputeN', SimpleImputer()), ('scaler', MinMaxScaler()),\n",
       "                ('skb', SelectKBest(k=3))])"
      ]
     },
     "execution_count": 48,
     "metadata": {},
     "output_type": "execute_result"
    }
   ],
   "source": [
    "from sklearn.pipeline import Pipeline\n",
    "\n",
    "# Pre-Processing pipeline for Numeric Feautures\n",
    "n_transformer = Pipeline(steps=\n",
    "    [\n",
    "        (\"imputeN\", SimpleImputer(strategy=\"mean\")),\n",
    "        (\"scaler\", MinMaxScaler()),\n",
    "        ('skb',SelectKBest(score_func=f_classif,k=3  ))\n",
    "    ]\n",
    ")\n",
    "\n",
    "n_transformer"
   ]
  },
  {
   "cell_type": "code",
   "execution_count": 49,
   "id": "b88f4631",
   "metadata": {},
   "outputs": [
    {
     "data": {
      "text/plain": [
       "Pipeline(steps=[('imputeC', SimpleImputer(strategy='most_frequent')),\n",
       "                ('onehot', OneHotEncoder(handle_unknown='ignore')),\n",
       "                ('skb',\n",
       "                 SelectKBest(score_func=<function chi2 at 0x7fc668ba39d0>))])"
      ]
     },
     "execution_count": 49,
     "metadata": {},
     "output_type": "execute_result"
    }
   ],
   "source": [
    "# Pre-Processing Pipeline for Categorical Features\n",
    "from sklearn.preprocessing import OneHotEncoder\n",
    "\n",
    "\n",
    "c_transformer = Pipeline(steps=\n",
    "    [\n",
    "        (\"imputeC\", SimpleImputer(strategy=\"most_frequent\")),\n",
    "        (\"onehot\", OneHotEncoder(handle_unknown=\"ignore\")),\n",
    "       ('skb', SelectKBest(chi2, k = 10))\n",
    "    ]\n",
    ")\n",
    "\n",
    "c_transformer"
   ]
  },
  {
   "cell_type": "code",
   "execution_count": 50,
   "id": "a3a58774",
   "metadata": {},
   "outputs": [
    {
     "data": {
      "text/plain": [
       "LogisticRegression()"
      ]
     },
     "execution_count": 50,
     "metadata": {},
     "output_type": "execute_result"
    }
   ],
   "source": [
    "from sklearn.linear_model import LogisticRegression\n",
    "\n",
    "# Create Logistic Regression model/estimator\n",
    "lr = LogisticRegression()\n",
    "lr"
   ]
  },
  {
   "cell_type": "code",
   "execution_count": 51,
   "id": "8d044bd5",
   "metadata": {},
   "outputs": [
    {
     "data": {
      "text/plain": [
       "ColumnTransformer(transformers=[('categoric',\n",
       "                                 Pipeline(steps=[('imputeC',\n",
       "                                                  SimpleImputer(strategy='most_frequent')),\n",
       "                                                 ('onehot',\n",
       "                                                  OneHotEncoder(handle_unknown='ignore')),\n",
       "                                                 ('skb',\n",
       "                                                  SelectKBest(score_func=<function chi2 at 0x7fc668ba39d0>))]),\n",
       "                                 Index(['rbc', 'pc', 'pcc', 'ba', 'pcv', 'wc', 'rc', 'htn', 'dm', 'cad',\n",
       "       'appet', 'pe', 'ane'],\n",
       "      dtype='object')),\n",
       "                                ('numeric',\n",
       "                                 Pipeline(steps=[('imputeN', SimpleImputer()),\n",
       "                                                 ('scaler', MinMaxScaler()),\n",
       "                                                 ('skb', SelectKBest(k=3))]),\n",
       "                                 Index(['id', 'age', 'bp', 'sg', 'al', 'su', 'bgr', 'bu', 'sc', 'sod', 'pot',\n",
       "       'hemo'],\n",
       "      dtype='object'))])"
      ]
     },
     "execution_count": 51,
     "metadata": {},
     "output_type": "execute_result"
    }
   ],
   "source": [
    "from sklearn.compose import ColumnTransformer\n",
    "\n",
    "pre = ColumnTransformer(transformers=\n",
    "                        [\n",
    "                            (\"categoric\", c_transformer, categorical_cols),\n",
    "                            (\"numeric\", n_transformer, numeric_cols)\n",
    "                        ]\n",
    ")\n",
    "\n",
    "pre"
   ]
  },
  {
   "cell_type": "code",
   "execution_count": 52,
   "id": "1d62f342",
   "metadata": {},
   "outputs": [
    {
     "data": {
      "text/plain": [
       "Pipeline(steps=[('preprocessing',\n",
       "                 ColumnTransformer(transformers=[('categoric',\n",
       "                                                  Pipeline(steps=[('imputeC',\n",
       "                                                                   SimpleImputer(strategy='most_frequent')),\n",
       "                                                                  ('onehot',\n",
       "                                                                   OneHotEncoder(handle_unknown='ignore')),\n",
       "                                                                  ('skb',\n",
       "                                                                   SelectKBest(score_func=<function chi2 at 0x7fc668ba39d0>))]),\n",
       "                                                  Index(['rbc', 'pc', 'pcc', 'ba', 'pcv', 'wc', 'rc', 'htn', 'dm', 'cad',\n",
       "       'appet', 'pe', 'ane'],\n",
       "      dtype='object')),\n",
       "                                                 ('numeric',\n",
       "                                                  Pipeline(steps=[('imputeN',\n",
       "                                                                   SimpleImputer()),\n",
       "                                                                  ('scaler',\n",
       "                                                                   MinMaxScaler()),\n",
       "                                                                  ('skb',\n",
       "                                                                   SelectKBest(k=3))]),\n",
       "                                                  Index(['id', 'age', 'bp', 'sg', 'al', 'su', 'bgr', 'bu', 'sc', 'sod', 'pot',\n",
       "       'hemo'],\n",
       "      dtype='object'))])),\n",
       "                ('est', LogisticRegression())])"
      ]
     },
     "execution_count": 52,
     "metadata": {},
     "output_type": "execute_result"
    }
   ],
   "source": [
    "logistic_regression_model = Pipeline(steps=\n",
    "                   [\n",
    "                       (\"preprocessing\", pre),\n",
    "                       (\"est\",lr)\n",
    "                   ]\n",
    ")\n",
    "\n",
    "logistic_regression_model"
   ]
  },
  {
   "cell_type": "code",
   "execution_count": 53,
   "id": "271b0c2d",
   "metadata": {},
   "outputs": [],
   "source": [
    "X_train, X_test, Y_train, Y_test = train_test_split(features, target, test_size=0.2, random_state=144, stratify=target)"
   ]
  },
  {
   "cell_type": "code",
   "execution_count": 54,
   "id": "b53afafd",
   "metadata": {},
   "outputs": [
    {
     "data": {
      "text/plain": [
       "(320, 25)"
      ]
     },
     "execution_count": 54,
     "metadata": {},
     "output_type": "execute_result"
    }
   ],
   "source": [
    "X_train.shape"
   ]
  },
  {
   "cell_type": "code",
   "execution_count": 55,
   "id": "07bdc78b",
   "metadata": {},
   "outputs": [
    {
     "data": {
      "text/plain": [
       "Index(['id', 'age', 'bp', 'sg', 'al', 'su', 'rbc', 'pc', 'pcc', 'ba', 'bgr',\n",
       "       'bu', 'sc', 'sod', 'pot', 'hemo', 'pcv', 'wc', 'rc', 'htn', 'dm', 'cad',\n",
       "       'appet', 'pe', 'ane'],\n",
       "      dtype='object')"
      ]
     },
     "execution_count": 55,
     "metadata": {},
     "output_type": "execute_result"
    }
   ],
   "source": [
    "X_train.columns"
   ]
  },
  {
   "cell_type": "code",
   "execution_count": 56,
   "id": "dfc8e7cf",
   "metadata": {},
   "outputs": [
    {
     "name": "stderr",
     "output_type": "stream",
     "text": [
      "/Users/Samphel/opt/anaconda3/lib/python3.9/site-packages/sklearn/utils/validation.py:993: DataConversionWarning: A column-vector y was passed when a 1d array was expected. Please change the shape of y to (n_samples, ), for example using ravel().\n",
      "  y = column_or_1d(y, warn=True)\n",
      "/Users/Samphel/opt/anaconda3/lib/python3.9/site-packages/sklearn/utils/validation.py:993: DataConversionWarning: A column-vector y was passed when a 1d array was expected. Please change the shape of y to (n_samples, ), for example using ravel().\n",
      "  y = column_or_1d(y, warn=True)\n"
     ]
    },
    {
     "data": {
      "text/html": [
       "<style>#sk-0d97805d-4c72-41e3-90e7-57e9ccb38890 {color: black;background-color: white;}#sk-0d97805d-4c72-41e3-90e7-57e9ccb38890 pre{padding: 0;}#sk-0d97805d-4c72-41e3-90e7-57e9ccb38890 div.sk-toggleable {background-color: white;}#sk-0d97805d-4c72-41e3-90e7-57e9ccb38890 label.sk-toggleable__label {cursor: pointer;display: block;width: 100%;margin-bottom: 0;padding: 0.3em;box-sizing: border-box;text-align: center;}#sk-0d97805d-4c72-41e3-90e7-57e9ccb38890 label.sk-toggleable__label-arrow:before {content: \"▸\";float: left;margin-right: 0.25em;color: #696969;}#sk-0d97805d-4c72-41e3-90e7-57e9ccb38890 label.sk-toggleable__label-arrow:hover:before {color: black;}#sk-0d97805d-4c72-41e3-90e7-57e9ccb38890 div.sk-estimator:hover label.sk-toggleable__label-arrow:before {color: black;}#sk-0d97805d-4c72-41e3-90e7-57e9ccb38890 div.sk-toggleable__content {max-height: 0;max-width: 0;overflow: hidden;text-align: left;background-color: #f0f8ff;}#sk-0d97805d-4c72-41e3-90e7-57e9ccb38890 div.sk-toggleable__content pre {margin: 0.2em;color: black;border-radius: 0.25em;background-color: #f0f8ff;}#sk-0d97805d-4c72-41e3-90e7-57e9ccb38890 input.sk-toggleable__control:checked~div.sk-toggleable__content {max-height: 200px;max-width: 100%;overflow: auto;}#sk-0d97805d-4c72-41e3-90e7-57e9ccb38890 input.sk-toggleable__control:checked~label.sk-toggleable__label-arrow:before {content: \"▾\";}#sk-0d97805d-4c72-41e3-90e7-57e9ccb38890 div.sk-estimator input.sk-toggleable__control:checked~label.sk-toggleable__label {background-color: #d4ebff;}#sk-0d97805d-4c72-41e3-90e7-57e9ccb38890 div.sk-label input.sk-toggleable__control:checked~label.sk-toggleable__label {background-color: #d4ebff;}#sk-0d97805d-4c72-41e3-90e7-57e9ccb38890 input.sk-hidden--visually {border: 0;clip: rect(1px 1px 1px 1px);clip: rect(1px, 1px, 1px, 1px);height: 1px;margin: -1px;overflow: hidden;padding: 0;position: absolute;width: 1px;}#sk-0d97805d-4c72-41e3-90e7-57e9ccb38890 div.sk-estimator {font-family: monospace;background-color: #f0f8ff;border: 1px dotted black;border-radius: 0.25em;box-sizing: border-box;margin-bottom: 0.5em;}#sk-0d97805d-4c72-41e3-90e7-57e9ccb38890 div.sk-estimator:hover {background-color: #d4ebff;}#sk-0d97805d-4c72-41e3-90e7-57e9ccb38890 div.sk-parallel-item::after {content: \"\";width: 100%;border-bottom: 1px solid gray;flex-grow: 1;}#sk-0d97805d-4c72-41e3-90e7-57e9ccb38890 div.sk-label:hover label.sk-toggleable__label {background-color: #d4ebff;}#sk-0d97805d-4c72-41e3-90e7-57e9ccb38890 div.sk-serial::before {content: \"\";position: absolute;border-left: 1px solid gray;box-sizing: border-box;top: 2em;bottom: 0;left: 50%;}#sk-0d97805d-4c72-41e3-90e7-57e9ccb38890 div.sk-serial {display: flex;flex-direction: column;align-items: center;background-color: white;padding-right: 0.2em;padding-left: 0.2em;}#sk-0d97805d-4c72-41e3-90e7-57e9ccb38890 div.sk-item {z-index: 1;}#sk-0d97805d-4c72-41e3-90e7-57e9ccb38890 div.sk-parallel {display: flex;align-items: stretch;justify-content: center;background-color: white;}#sk-0d97805d-4c72-41e3-90e7-57e9ccb38890 div.sk-parallel::before {content: \"\";position: absolute;border-left: 1px solid gray;box-sizing: border-box;top: 2em;bottom: 0;left: 50%;}#sk-0d97805d-4c72-41e3-90e7-57e9ccb38890 div.sk-parallel-item {display: flex;flex-direction: column;position: relative;background-color: white;}#sk-0d97805d-4c72-41e3-90e7-57e9ccb38890 div.sk-parallel-item:first-child::after {align-self: flex-end;width: 50%;}#sk-0d97805d-4c72-41e3-90e7-57e9ccb38890 div.sk-parallel-item:last-child::after {align-self: flex-start;width: 50%;}#sk-0d97805d-4c72-41e3-90e7-57e9ccb38890 div.sk-parallel-item:only-child::after {width: 0;}#sk-0d97805d-4c72-41e3-90e7-57e9ccb38890 div.sk-dashed-wrapped {border: 1px dashed gray;margin: 0 0.4em 0.5em 0.4em;box-sizing: border-box;padding-bottom: 0.4em;background-color: white;position: relative;}#sk-0d97805d-4c72-41e3-90e7-57e9ccb38890 div.sk-label label {font-family: monospace;font-weight: bold;background-color: white;display: inline-block;line-height: 1.2em;}#sk-0d97805d-4c72-41e3-90e7-57e9ccb38890 div.sk-label-container {position: relative;z-index: 2;text-align: center;}#sk-0d97805d-4c72-41e3-90e7-57e9ccb38890 div.sk-container {/* jupyter's `normalize.less` sets `[hidden] { display: none; }` but bootstrap.min.css set `[hidden] { display: none !important; }` so we also need the `!important` here to be able to override the default hidden behavior on the sphinx rendered scikit-learn.org. See: https://github.com/scikit-learn/scikit-learn/issues/21755 */display: inline-block !important;position: relative;}#sk-0d97805d-4c72-41e3-90e7-57e9ccb38890 div.sk-text-repr-fallback {display: none;}</style><div id=\"sk-0d97805d-4c72-41e3-90e7-57e9ccb38890\" class=\"sk-top-container\"><div class=\"sk-text-repr-fallback\"><pre>Pipeline(steps=[(&#x27;preprocessing&#x27;,\n",
       "                 ColumnTransformer(transformers=[(&#x27;categoric&#x27;,\n",
       "                                                  Pipeline(steps=[(&#x27;imputeC&#x27;,\n",
       "                                                                   SimpleImputer(strategy=&#x27;most_frequent&#x27;)),\n",
       "                                                                  (&#x27;onehot&#x27;,\n",
       "                                                                   OneHotEncoder(handle_unknown=&#x27;ignore&#x27;)),\n",
       "                                                                  (&#x27;skb&#x27;,\n",
       "                                                                   SelectKBest(score_func=&lt;function chi2 at 0x7fc668ba39d0&gt;))]),\n",
       "                                                  Index([&#x27;rbc&#x27;, &#x27;pc&#x27;, &#x27;pcc&#x27;, &#x27;ba&#x27;, &#x27;pcv&#x27;, &#x27;wc&#x27;, &#x27;rc&#x27;, &#x27;htn&#x27;, &#x27;dm&#x27;, &#x27;cad&#x27;,\n",
       "       &#x27;appet&#x27;, &#x27;pe&#x27;, &#x27;ane&#x27;],\n",
       "      dtype=&#x27;object&#x27;)),\n",
       "                                                 (&#x27;numeric&#x27;,\n",
       "                                                  Pipeline(steps=[(&#x27;imputeN&#x27;,\n",
       "                                                                   SimpleImputer()),\n",
       "                                                                  (&#x27;scaler&#x27;,\n",
       "                                                                   MinMaxScaler()),\n",
       "                                                                  (&#x27;skb&#x27;,\n",
       "                                                                   SelectKBest(k=3))]),\n",
       "                                                  Index([&#x27;id&#x27;, &#x27;age&#x27;, &#x27;bp&#x27;, &#x27;sg&#x27;, &#x27;al&#x27;, &#x27;su&#x27;, &#x27;bgr&#x27;, &#x27;bu&#x27;, &#x27;sc&#x27;, &#x27;sod&#x27;, &#x27;pot&#x27;,\n",
       "       &#x27;hemo&#x27;],\n",
       "      dtype=&#x27;object&#x27;))])),\n",
       "                (&#x27;est&#x27;, LogisticRegression())])</pre><b>Please rerun this cell to show the HTML repr or trust the notebook.</b></div><div class=\"sk-container\" hidden><div class=\"sk-item sk-dashed-wrapped\"><div class=\"sk-label-container\"><div class=\"sk-label sk-toggleable\"><input class=\"sk-toggleable__control sk-hidden--visually\" id=\"354bc92f-bd88-4645-973f-a42da01b7f59\" type=\"checkbox\" ><label for=\"354bc92f-bd88-4645-973f-a42da01b7f59\" class=\"sk-toggleable__label sk-toggleable__label-arrow\">Pipeline</label><div class=\"sk-toggleable__content\"><pre>Pipeline(steps=[(&#x27;preprocessing&#x27;,\n",
       "                 ColumnTransformer(transformers=[(&#x27;categoric&#x27;,\n",
       "                                                  Pipeline(steps=[(&#x27;imputeC&#x27;,\n",
       "                                                                   SimpleImputer(strategy=&#x27;most_frequent&#x27;)),\n",
       "                                                                  (&#x27;onehot&#x27;,\n",
       "                                                                   OneHotEncoder(handle_unknown=&#x27;ignore&#x27;)),\n",
       "                                                                  (&#x27;skb&#x27;,\n",
       "                                                                   SelectKBest(score_func=&lt;function chi2 at 0x7fc668ba39d0&gt;))]),\n",
       "                                                  Index([&#x27;rbc&#x27;, &#x27;pc&#x27;, &#x27;pcc&#x27;, &#x27;ba&#x27;, &#x27;pcv&#x27;, &#x27;wc&#x27;, &#x27;rc&#x27;, &#x27;htn&#x27;, &#x27;dm&#x27;, &#x27;cad&#x27;,\n",
       "       &#x27;appet&#x27;, &#x27;pe&#x27;, &#x27;ane&#x27;],\n",
       "      dtype=&#x27;object&#x27;)),\n",
       "                                                 (&#x27;numeric&#x27;,\n",
       "                                                  Pipeline(steps=[(&#x27;imputeN&#x27;,\n",
       "                                                                   SimpleImputer()),\n",
       "                                                                  (&#x27;scaler&#x27;,\n",
       "                                                                   MinMaxScaler()),\n",
       "                                                                  (&#x27;skb&#x27;,\n",
       "                                                                   SelectKBest(k=3))]),\n",
       "                                                  Index([&#x27;id&#x27;, &#x27;age&#x27;, &#x27;bp&#x27;, &#x27;sg&#x27;, &#x27;al&#x27;, &#x27;su&#x27;, &#x27;bgr&#x27;, &#x27;bu&#x27;, &#x27;sc&#x27;, &#x27;sod&#x27;, &#x27;pot&#x27;,\n",
       "       &#x27;hemo&#x27;],\n",
       "      dtype=&#x27;object&#x27;))])),\n",
       "                (&#x27;est&#x27;, LogisticRegression())])</pre></div></div></div><div class=\"sk-serial\"><div class=\"sk-item sk-dashed-wrapped\"><div class=\"sk-label-container\"><div class=\"sk-label sk-toggleable\"><input class=\"sk-toggleable__control sk-hidden--visually\" id=\"d9865a9b-b3d7-478b-b901-5dc716987c6c\" type=\"checkbox\" ><label for=\"d9865a9b-b3d7-478b-b901-5dc716987c6c\" class=\"sk-toggleable__label sk-toggleable__label-arrow\">preprocessing: ColumnTransformer</label><div class=\"sk-toggleable__content\"><pre>ColumnTransformer(transformers=[(&#x27;categoric&#x27;,\n",
       "                                 Pipeline(steps=[(&#x27;imputeC&#x27;,\n",
       "                                                  SimpleImputer(strategy=&#x27;most_frequent&#x27;)),\n",
       "                                                 (&#x27;onehot&#x27;,\n",
       "                                                  OneHotEncoder(handle_unknown=&#x27;ignore&#x27;)),\n",
       "                                                 (&#x27;skb&#x27;,\n",
       "                                                  SelectKBest(score_func=&lt;function chi2 at 0x7fc668ba39d0&gt;))]),\n",
       "                                 Index([&#x27;rbc&#x27;, &#x27;pc&#x27;, &#x27;pcc&#x27;, &#x27;ba&#x27;, &#x27;pcv&#x27;, &#x27;wc&#x27;, &#x27;rc&#x27;, &#x27;htn&#x27;, &#x27;dm&#x27;, &#x27;cad&#x27;,\n",
       "       &#x27;appet&#x27;, &#x27;pe&#x27;, &#x27;ane&#x27;],\n",
       "      dtype=&#x27;object&#x27;)),\n",
       "                                (&#x27;numeric&#x27;,\n",
       "                                 Pipeline(steps=[(&#x27;imputeN&#x27;, SimpleImputer()),\n",
       "                                                 (&#x27;scaler&#x27;, MinMaxScaler()),\n",
       "                                                 (&#x27;skb&#x27;, SelectKBest(k=3))]),\n",
       "                                 Index([&#x27;id&#x27;, &#x27;age&#x27;, &#x27;bp&#x27;, &#x27;sg&#x27;, &#x27;al&#x27;, &#x27;su&#x27;, &#x27;bgr&#x27;, &#x27;bu&#x27;, &#x27;sc&#x27;, &#x27;sod&#x27;, &#x27;pot&#x27;,\n",
       "       &#x27;hemo&#x27;],\n",
       "      dtype=&#x27;object&#x27;))])</pre></div></div></div><div class=\"sk-parallel\"><div class=\"sk-parallel-item\"><div class=\"sk-item\"><div class=\"sk-label-container\"><div class=\"sk-label sk-toggleable\"><input class=\"sk-toggleable__control sk-hidden--visually\" id=\"06835579-5df0-4d4d-9125-954c2dc0bec2\" type=\"checkbox\" ><label for=\"06835579-5df0-4d4d-9125-954c2dc0bec2\" class=\"sk-toggleable__label sk-toggleable__label-arrow\">categoric</label><div class=\"sk-toggleable__content\"><pre>Index([&#x27;rbc&#x27;, &#x27;pc&#x27;, &#x27;pcc&#x27;, &#x27;ba&#x27;, &#x27;pcv&#x27;, &#x27;wc&#x27;, &#x27;rc&#x27;, &#x27;htn&#x27;, &#x27;dm&#x27;, &#x27;cad&#x27;,\n",
       "       &#x27;appet&#x27;, &#x27;pe&#x27;, &#x27;ane&#x27;],\n",
       "      dtype=&#x27;object&#x27;)</pre></div></div></div><div class=\"sk-serial\"><div class=\"sk-item\"><div class=\"sk-serial\"><div class=\"sk-item\"><div class=\"sk-estimator sk-toggleable\"><input class=\"sk-toggleable__control sk-hidden--visually\" id=\"1d548136-3d23-4a84-a7e8-0a7f41a1e04d\" type=\"checkbox\" ><label for=\"1d548136-3d23-4a84-a7e8-0a7f41a1e04d\" class=\"sk-toggleable__label sk-toggleable__label-arrow\">SimpleImputer</label><div class=\"sk-toggleable__content\"><pre>SimpleImputer(strategy=&#x27;most_frequent&#x27;)</pre></div></div></div><div class=\"sk-item\"><div class=\"sk-estimator sk-toggleable\"><input class=\"sk-toggleable__control sk-hidden--visually\" id=\"701b0717-44d7-40d8-9209-5d82eb1a0b98\" type=\"checkbox\" ><label for=\"701b0717-44d7-40d8-9209-5d82eb1a0b98\" class=\"sk-toggleable__label sk-toggleable__label-arrow\">OneHotEncoder</label><div class=\"sk-toggleable__content\"><pre>OneHotEncoder(handle_unknown=&#x27;ignore&#x27;)</pre></div></div></div><div class=\"sk-item\"><div class=\"sk-estimator sk-toggleable\"><input class=\"sk-toggleable__control sk-hidden--visually\" id=\"62f8efcc-1365-41c8-b5fc-0da3e0c32902\" type=\"checkbox\" ><label for=\"62f8efcc-1365-41c8-b5fc-0da3e0c32902\" class=\"sk-toggleable__label sk-toggleable__label-arrow\">SelectKBest</label><div class=\"sk-toggleable__content\"><pre>SelectKBest(score_func=&lt;function chi2 at 0x7fc668ba39d0&gt;)</pre></div></div></div></div></div></div></div></div><div class=\"sk-parallel-item\"><div class=\"sk-item\"><div class=\"sk-label-container\"><div class=\"sk-label sk-toggleable\"><input class=\"sk-toggleable__control sk-hidden--visually\" id=\"46a94d6c-50ad-4bd7-a99c-750e5dafffe5\" type=\"checkbox\" ><label for=\"46a94d6c-50ad-4bd7-a99c-750e5dafffe5\" class=\"sk-toggleable__label sk-toggleable__label-arrow\">numeric</label><div class=\"sk-toggleable__content\"><pre>Index([&#x27;id&#x27;, &#x27;age&#x27;, &#x27;bp&#x27;, &#x27;sg&#x27;, &#x27;al&#x27;, &#x27;su&#x27;, &#x27;bgr&#x27;, &#x27;bu&#x27;, &#x27;sc&#x27;, &#x27;sod&#x27;, &#x27;pot&#x27;,\n",
       "       &#x27;hemo&#x27;],\n",
       "      dtype=&#x27;object&#x27;)</pre></div></div></div><div class=\"sk-serial\"><div class=\"sk-item\"><div class=\"sk-serial\"><div class=\"sk-item\"><div class=\"sk-estimator sk-toggleable\"><input class=\"sk-toggleable__control sk-hidden--visually\" id=\"49f652fc-43ce-4f59-bda9-2d5fbadfa74b\" type=\"checkbox\" ><label for=\"49f652fc-43ce-4f59-bda9-2d5fbadfa74b\" class=\"sk-toggleable__label sk-toggleable__label-arrow\">SimpleImputer</label><div class=\"sk-toggleable__content\"><pre>SimpleImputer()</pre></div></div></div><div class=\"sk-item\"><div class=\"sk-estimator sk-toggleable\"><input class=\"sk-toggleable__control sk-hidden--visually\" id=\"6d024ad2-bb63-4d9c-b487-e877ba9f31e0\" type=\"checkbox\" ><label for=\"6d024ad2-bb63-4d9c-b487-e877ba9f31e0\" class=\"sk-toggleable__label sk-toggleable__label-arrow\">MinMaxScaler</label><div class=\"sk-toggleable__content\"><pre>MinMaxScaler()</pre></div></div></div><div class=\"sk-item\"><div class=\"sk-estimator sk-toggleable\"><input class=\"sk-toggleable__control sk-hidden--visually\" id=\"485bdd1f-d453-415f-9a48-88707f84d595\" type=\"checkbox\" ><label for=\"485bdd1f-d453-415f-9a48-88707f84d595\" class=\"sk-toggleable__label sk-toggleable__label-arrow\">SelectKBest</label><div class=\"sk-toggleable__content\"><pre>SelectKBest(k=3)</pre></div></div></div></div></div></div></div></div></div></div><div class=\"sk-item\"><div class=\"sk-estimator sk-toggleable\"><input class=\"sk-toggleable__control sk-hidden--visually\" id=\"11de12a8-c274-4283-8dcb-af92dae274b8\" type=\"checkbox\" ><label for=\"11de12a8-c274-4283-8dcb-af92dae274b8\" class=\"sk-toggleable__label sk-toggleable__label-arrow\">LogisticRegression</label><div class=\"sk-toggleable__content\"><pre>LogisticRegression()</pre></div></div></div></div></div></div></div>"
      ],
      "text/plain": [
       "Pipeline(steps=[('preprocessing',\n",
       "                 ColumnTransformer(transformers=[('categoric',\n",
       "                                                  Pipeline(steps=[('imputeC',\n",
       "                                                                   SimpleImputer(strategy='most_frequent')),\n",
       "                                                                  ('onehot',\n",
       "                                                                   OneHotEncoder(handle_unknown='ignore')),\n",
       "                                                                  ('skb',\n",
       "                                                                   SelectKBest(score_func=<function chi2 at 0x7fc668ba39d0>))]),\n",
       "                                                  Index(['rbc', 'pc', 'pcc', 'ba', 'pcv', 'wc', 'rc', 'htn', 'dm', 'cad',\n",
       "       'appet', 'pe', 'ane'],\n",
       "      dtype='object')),\n",
       "                                                 ('numeric',\n",
       "                                                  Pipeline(steps=[('imputeN',\n",
       "                                                                   SimpleImputer()),\n",
       "                                                                  ('scaler',\n",
       "                                                                   MinMaxScaler()),\n",
       "                                                                  ('skb',\n",
       "                                                                   SelectKBest(k=3))]),\n",
       "                                                  Index(['id', 'age', 'bp', 'sg', 'al', 'su', 'bgr', 'bu', 'sc', 'sod', 'pot',\n",
       "       'hemo'],\n",
       "      dtype='object'))])),\n",
       "                ('est', LogisticRegression())])"
      ]
     },
     "execution_count": 56,
     "metadata": {},
     "output_type": "execute_result"
    }
   ],
   "source": [
    "from sklearn import set_config\n",
    "set_config(display='diagram')\n",
    "logistic_regression_model.fit(X_train,y_train)\n"
   ]
  },
  {
   "cell_type": "code",
   "execution_count": 57,
   "id": "75d7d3f7",
   "metadata": {},
   "outputs": [
    {
     "data": {
      "image/png": "[encoded data removed]",
      "text/plain": [
       "<Figure size 1008x864 with 2 Axes>"
      ]
     },
     "metadata": {
      "needs_background": "light"
     },
     "output_type": "display_data"
    }
   ],
   "source": [
    "plot_confusion_matrix(Y_test, logistic_regression_model.predict(X_test), \"LogisticRegressionClassifier\", \"OrRd_r\")"
   ]
  },
  {
   "cell_type": "code",
   "execution_count": 58,
   "id": "11847d14",
   "metadata": {},
   "outputs": [],
   "source": [
    "from sklearn.metrics import classification_report, recall_score, f1_score, precision_score, confusion_matrix\n",
    "import seaborn as sns"
   ]
  },
  {
   "cell_type": "code",
   "execution_count": 59,
   "id": "2c5f5341",
   "metadata": {},
   "outputs": [
    {
     "name": "stdout",
     "output_type": "stream",
     "text": [
      "              precision    recall  f1-score   support\n",
      "\n",
      "           Y       0.70      1.00      0.83        50\n",
      "           N       1.00      0.30      0.46        30\n",
      "\n",
      "    accuracy                           0.74        80\n",
      "   macro avg       0.85      0.65      0.64        80\n",
      "weighted avg       0.82      0.74      0.69        80\n",
      "\n"
     ]
    },
    {
     "data": {
      "image/png": "[encoded data removed]",
      "text/plain": [
       "<Figure size 432x288 with 2 Axes>"
      ]
     },
     "metadata": {
      "needs_background": "light"
     },
     "output_type": "display_data"
    }
   ],
   "source": [
    "y_pred = logistic_regression_model.predict(X_test)\n",
    "\n",
    "# Summarize the fit of the model\n",
    "report = classification_report(Y_test, y_pred, target_names=[\"Y\", \"N\"])\n",
    "print(report)\n",
    "\n",
    "# Confusion Matrix\n",
    "cm = confusion_matrix(y_test, y_pred)\n",
    "sns.heatmap(cm, annot=True, cmap='OrRd_r');\n",
    "\n",
    "plt.ylabel(\"Actual Labels\")\n",
    "plt.xlabel(\"Predicted Labels\")\n",
    "\n",
    "plt.show()"
   ]
  },
  {
   "cell_type": "code",
   "execution_count": null,
   "id": "b5e0af69",
   "metadata": {},
   "outputs": [],
   "source": []
  },
  {
   "cell_type": "code",
   "execution_count": null,
   "id": "09404705",
   "metadata": {},
   "outputs": [],
   "source": []
  },
  {
   "cell_type": "code",
   "execution_count": null,
   "id": "dc2a5778",
   "metadata": {},
   "outputs": [],
   "source": []
  }
 ],
 "metadata": {
  "kernelspec": {
   "display_name": "Python 3 (ipykernel)",
   "language": "python",
   "name": "python3"
  },
  "language_info": {
   "codemirror_mode": {
    "name": "ipython",
    "version": 3
   },
   "file_extension": ".py",
   "mimetype": "text/x-python",
   "name": "python",
   "nbconvert_exporter": "python",
   "pygments_lexer": "ipython3",
   "version": "3.9.12"
  }
 },
 "nbformat": 4,
 "nbformat_minor": 5
}
